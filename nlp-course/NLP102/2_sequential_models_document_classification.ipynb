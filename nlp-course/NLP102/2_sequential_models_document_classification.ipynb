{
  "nbformat": 4,
  "nbformat_minor": 0,
  "metadata": {
    "colab": {
      "provenance": []
    },
    "kernelspec": {
      "name": "python3",
      "display_name": "Python 3"
    },
    "language_info": {
      "name": "python"
    }
  },
  "cells": [
    {
      "cell_type": "code",
      "metadata": {
        "id": "5nsUK55bOLxe"
      },
      "source": [
        "import numpy as np\n",
        "import pandas as pd\n",
        "from sklearn.datasets import fetch_20newsgroups\n",
        "from functools import reduce\n",
        "from tqdm import tqdm\n",
        "import tensorflow as tf\n",
        "import gensim.downloader\n",
        "\n",
        "def get_newsgroups_data(categories, samples_per_category=500):\n",
        "    newsgroups = fetch_20newsgroups(subset='all')\n",
        "    data = reduce(lambda x,y: x+y, [fetch_20newsgroups(categories=[x], remove=('headers', 'footers'))['data'][:samples_per_category] for x in categ])\n",
        "    targets = []\n",
        "    for c in categories:\n",
        "        targets += [c] * samples_per_category\n",
        "    return data, targets\n",
        "\n",
        "categ = ['alt.atheism', 'comp.graphics', 'rec.sport.baseball']\n",
        "\n",
        "data, targets = get_newsgroups_data(categ, 50)"
      ],
      "execution_count": null,
      "outputs": []
    },
    {
      "cell_type": "code",
      "metadata": {
        "colab": {
          "base_uri": "https://localhost:8080/"
        },
        "id": "OSNNDAJ4O2ac",
        "outputId": "bb955d90-d2ab-4d82-c4c2-51600424e3d3"
      },
      "source": [
        "w2v = gensim.downloader.load('word2vec-google-news-300')"
      ],
      "execution_count": null,
      "outputs": [
        {
          "output_type": "stream",
          "name": "stdout",
          "text": [
            "[=================================================-] 99.5% 1654.2/1662.8MB downloaded\n"
          ]
        }
      ]
    },
    {
      "cell_type": "code",
      "metadata": {
        "id": "78bzhUl1QL3h"
      },
      "source": [
        "def encode_sentence(sent):\n",
        "    vectors = []\n",
        "    for word in sent:\n",
        "        if word:\n",
        "            try:\n",
        "                vectors.append(w2v[word])\n",
        "            except KeyError:\n",
        "                pass\n",
        "    return np.stack(vectors)\n",
        "\n",
        "\n",
        "def prepare_dataset(dataset):\n",
        "    encoded_dataset = []\n",
        "    for doc in tqdm(dataset):\n",
        "        encoded_dataset.append(encode_sentence(doc))\n",
        "\n",
        "    return tf.keras.preprocessing.sequence.pad_sequences(encoded_dataset,\n",
        "                                                         value=np.zeros((300,)),\n",
        "                                                         dtype='float32')"
      ],
      "execution_count": null,
      "outputs": []
    },
    {
      "cell_type": "markdown",
      "source": [
        "1. (9, 300) --> (9, 300)\n",
        "2. (5, 300) --> (9, 300)\n",
        "3. (7, 300) --> (9, 300)\n",
        "\n",
        "\n",
        "2. [z, z, z, z, e1, e2, e3, e4, e5]\n",
        "z = [0, 0, 0, ...]\n",
        "\n",
        "\n",
        "[(9, 300), (9, 300), (9, 300)]  -- stack --> (3, 9, 300)"
      ],
      "metadata": {
        "id": "3EgWdWeBpGo3"
      }
    },
    {
      "cell_type": "code",
      "metadata": {
        "colab": {
          "base_uri": "https://localhost:8080/"
        },
        "id": "95slQnNHQkZm",
        "outputId": "0f845aea-79f7-4981-dfe8-f7c757d93285"
      },
      "source": [
        "X = prepare_dataset(data)"
      ],
      "execution_count": null,
      "outputs": [
        {
          "output_type": "stream",
          "name": "stderr",
          "text": [
            "100%|██████████| 150/150 [00:00<00:00, 253.47it/s]\n"
          ]
        }
      ]
    },
    {
      "cell_type": "code",
      "metadata": {
        "colab": {
          "base_uri": "https://localhost:8080/"
        },
        "id": "qAvk3UWcY26H",
        "outputId": "d0ca86f0-11f8-4ef4-c1e6-790a3470d403"
      },
      "source": [
        "X.shape, X.dtype"
      ],
      "execution_count": null,
      "outputs": [
        {
          "output_type": "execute_result",
          "data": {
            "text/plain": [
              "((150, 10938, 300), dtype('float32'))"
            ]
          },
          "metadata": {},
          "execution_count": 7
        }
      ]
    },
    {
      "cell_type": "markdown",
      "source": [
        "`(num_docs, max_seq_length, embedding_dim)`"
      ],
      "metadata": {
        "id": "CgXETqJirWbH"
      }
    },
    {
      "cell_type": "code",
      "source": [
        "doc1 = X[0]\n",
        "doc1.shape"
      ],
      "metadata": {
        "colab": {
          "base_uri": "https://localhost:8080/"
        },
        "id": "XYeJxKMyqkbl",
        "outputId": "d9ef5912-d275-4d18-bb29-218f107ae750"
      },
      "execution_count": null,
      "outputs": [
        {
          "output_type": "execute_result",
          "data": {
            "text/plain": [
              "(10938, 300)"
            ]
          },
          "metadata": {},
          "execution_count": 8
        }
      ]
    },
    {
      "cell_type": "code",
      "source": [
        "doc1[7033]"
      ],
      "metadata": {
        "colab": {
          "base_uri": "https://localhost:8080/"
        },
        "id": "pRLmPqR8qnYz",
        "outputId": "6265c10c-daa2-4f41-e546-87498ba155ca"
      },
      "execution_count": null,
      "outputs": [
        {
          "output_type": "execute_result",
          "data": {
            "text/plain": [
              "array([ 0.07910156, -0.0050354 ,  0.11181641,  0.21289062,  0.13085938,\n",
              "       -0.01470947, -0.03540039, -0.07763672,  0.04077148,  0.11474609,\n",
              "        0.00147247, -0.29101562,  0.00457764, -0.20019531, -0.19238281,\n",
              "        0.08007812,  0.10107422,  0.04858398,  0.15722656, -0.09521484,\n",
              "       -0.05004883,  0.25      ,  0.33007812, -0.09716797, -0.05566406,\n",
              "       -0.0071106 , -0.16796875, -0.13574219,  0.05102539, -0.00598145,\n",
              "        0.10791016,  0.16503906, -0.03955078, -0.03955078,  0.04321289,\n",
              "        0.12060547,  0.13476562,  0.09375   ,  0.00909424,  0.1640625 ,\n",
              "        0.21289062, -0.05322266,  0.33398438,  0.01586914,  0.10449219,\n",
              "        0.24121094, -0.0189209 , -0.04199219,  0.05834961,  0.03271484,\n",
              "        0.09863281,  0.18945312,  0.04125977,  0.01501465, -0.05883789,\n",
              "        0.10253906,  0.01538086,  0.03198242,  0.02722168, -0.13769531,\n",
              "        0.12695312,  0.06396484, -0.13574219, -0.012146  ,  0.07617188,\n",
              "       -0.02319336, -0.21191406,  0.20996094, -0.01953125,  0.02038574,\n",
              "        0.16113281, -0.00897217,  0.04663086,  0.03881836, -0.4609375 ,\n",
              "       -0.1796875 ,  0.12792969, -0.00564575,  0.24121094,  0.21777344,\n",
              "       -0.02600098, -0.1171875 ,  0.19140625, -0.04052734, -0.18261719,\n",
              "       -0.09619141, -0.05053711,  0.27734375,  0.00086975,  0.06298828,\n",
              "       -0.13085938,  0.1328125 , -0.06640625,  0.03491211, -0.26953125,\n",
              "        0.0267334 ,  0.11816406,  0.1328125 , -0.02490234, -0.17480469,\n",
              "       -0.234375  , -0.0703125 ,  0.09179688,  0.03198242, -0.10791016,\n",
              "        0.13671875, -0.11523438,  0.00732422,  0.04223633, -0.25585938,\n",
              "       -0.27734375, -0.10644531,  0.02612305,  0.09082031,  0.14355469,\n",
              "       -0.19335938, -0.07421875, -0.20898438,  0.21289062, -0.17382812,\n",
              "       -0.04980469, -0.10839844, -0.02038574,  0.22949219, -0.09570312,\n",
              "       -0.06103516, -0.10693359,  0.03369141,  0.01879883,  0.05029297,\n",
              "       -0.36132812, -0.24511719, -0.34765625, -0.04394531, -0.18261719,\n",
              "       -0.14453125, -0.06152344,  0.21386719,  0.09667969,  0.1796875 ,\n",
              "       -0.02160645,  0.03100586,  0.0703125 , -0.07275391,  0.07226562,\n",
              "        0.10644531, -0.25      , -0.20800781, -0.0378418 , -0.01446533,\n",
              "        0.171875  ,  0.17578125, -0.33789062,  0.05517578, -0.01965332,\n",
              "        0.13378906, -0.01647949, -0.04541016, -0.16796875,  0.08544922,\n",
              "        0.09960938, -0.02001953, -0.06347656,  0.32421875, -0.02404785,\n",
              "       -0.22949219,  0.09960938,  0.08886719,  0.13769531, -0.05517578,\n",
              "       -0.2109375 ,  0.1875    , -0.03833008, -0.16796875, -0.11132812,\n",
              "        0.05249023,  0.1875    , -0.15136719,  0.07275391, -0.01953125,\n",
              "       -0.06933594,  0.16894531,  0.1171875 ,  0.10351562,  0.02905273,\n",
              "        0.0546875 , -0.2578125 ,  0.1171875 ,  0.0703125 , -0.04711914,\n",
              "       -0.03710938,  0.16503906, -0.01159668, -0.04638672,  0.11621094,\n",
              "        0.09521484, -0.09130859,  0.01916504, -0.08886719, -0.20507812,\n",
              "       -0.13183594,  0.12060547,  0.04980469,  0.09863281,  0.02819824,\n",
              "        0.046875  , -0.18554688, -0.06347656,  0.07519531,  0.11767578,\n",
              "        0.08154297,  0.0144043 , -0.11132812,  0.00939941, -0.23828125,\n",
              "       -0.1796875 ,  0.265625  ,  0.04174805, -0.0859375 , -0.06298828,\n",
              "       -0.1953125 ,  0.03588867, -0.03295898,  0.04174805,  0.23339844,\n",
              "       -0.3515625 ,  0.16503906, -0.0625    , -0.15136719, -0.10009766,\n",
              "        0.03979492, -0.01342773,  0.0123291 , -0.00939941,  0.12109375,\n",
              "        0.06738281, -0.18457031,  0.15917969,  0.12109375, -0.1171875 ,\n",
              "        0.00302124,  0.11425781,  0.11767578, -0.07666016, -0.16503906,\n",
              "       -0.09570312, -0.09277344,  0.12792969, -0.09375   ,  0.04223633,\n",
              "        0.21679688, -0.0859375 , -0.05883789,  0.16015625,  0.03710938,\n",
              "        0.01708984,  0.00326538, -0.13183594, -0.17480469, -0.27539062,\n",
              "       -0.03417969, -0.10546875,  0.07226562, -0.05541992,  0.09228516,\n",
              "        0.18164062,  0.04003906,  0.07275391, -0.14355469,  0.13378906,\n",
              "       -0.05371094,  0.15234375,  0.265625  ,  0.24609375, -0.05419922,\n",
              "       -0.07177734, -0.08496094, -0.25585938, -0.08300781, -0.03271484,\n",
              "        0.08203125,  0.00077057,  0.0480957 ,  0.17089844,  0.13964844,\n",
              "        0.03588867, -0.06542969, -0.2734375 , -0.22753906,  0.09570312,\n",
              "       -0.12597656,  0.15332031, -0.30664062, -0.07861328, -0.08642578,\n",
              "       -0.11474609, -0.02929688, -0.0067749 ,  0.04272461, -0.10351562],\n",
              "      dtype=float32)"
            ]
          },
          "metadata": {},
          "execution_count": 27
        }
      ]
    },
    {
      "cell_type": "code",
      "metadata": {
        "id": "dFO0J3D2YPTr"
      },
      "source": [
        "y = tf.keras.utils.to_categorical(pd.Series(targets).map(dict(zip(categ, range(3)))), num_classes=3)"
      ],
      "execution_count": null,
      "outputs": []
    },
    {
      "cell_type": "code",
      "source": [
        "y.shape  # (150, 3)"
      ],
      "metadata": {
        "colab": {
          "base_uri": "https://localhost:8080/"
        },
        "id": "ALCpoanzrzvV",
        "outputId": "b5eb098c-c51d-464f-e66b-bb0567dc56b9"
      },
      "execution_count": null,
      "outputs": [
        {
          "output_type": "execute_result",
          "data": {
            "text/plain": [
              "(150, 3)"
            ]
          },
          "metadata": {},
          "execution_count": 29
        }
      ]
    },
    {
      "cell_type": "code",
      "source": [
        "y"
      ],
      "metadata": {
        "colab": {
          "base_uri": "https://localhost:8080/"
        },
        "id": "Jl0cv2zssLse",
        "outputId": "ed68ab1d-3057-44a3-a384-4e5beabc06d9"
      },
      "execution_count": null,
      "outputs": [
        {
          "output_type": "execute_result",
          "data": {
            "text/plain": [
              "array([[1., 0., 0.],\n",
              "       [1., 0., 0.],\n",
              "       [1., 0., 0.],\n",
              "       [1., 0., 0.],\n",
              "       [1., 0., 0.],\n",
              "       [1., 0., 0.],\n",
              "       [1., 0., 0.],\n",
              "       [1., 0., 0.],\n",
              "       [1., 0., 0.],\n",
              "       [1., 0., 0.],\n",
              "       [1., 0., 0.],\n",
              "       [1., 0., 0.],\n",
              "       [1., 0., 0.],\n",
              "       [1., 0., 0.],\n",
              "       [1., 0., 0.],\n",
              "       [1., 0., 0.],\n",
              "       [1., 0., 0.],\n",
              "       [1., 0., 0.],\n",
              "       [1., 0., 0.],\n",
              "       [1., 0., 0.],\n",
              "       [1., 0., 0.],\n",
              "       [1., 0., 0.],\n",
              "       [1., 0., 0.],\n",
              "       [1., 0., 0.],\n",
              "       [1., 0., 0.],\n",
              "       [1., 0., 0.],\n",
              "       [1., 0., 0.],\n",
              "       [1., 0., 0.],\n",
              "       [1., 0., 0.],\n",
              "       [1., 0., 0.],\n",
              "       [1., 0., 0.],\n",
              "       [1., 0., 0.],\n",
              "       [1., 0., 0.],\n",
              "       [1., 0., 0.],\n",
              "       [1., 0., 0.],\n",
              "       [1., 0., 0.],\n",
              "       [1., 0., 0.],\n",
              "       [1., 0., 0.],\n",
              "       [1., 0., 0.],\n",
              "       [1., 0., 0.],\n",
              "       [1., 0., 0.],\n",
              "       [1., 0., 0.],\n",
              "       [1., 0., 0.],\n",
              "       [1., 0., 0.],\n",
              "       [1., 0., 0.],\n",
              "       [1., 0., 0.],\n",
              "       [1., 0., 0.],\n",
              "       [1., 0., 0.],\n",
              "       [1., 0., 0.],\n",
              "       [1., 0., 0.],\n",
              "       [0., 1., 0.],\n",
              "       [0., 1., 0.],\n",
              "       [0., 1., 0.],\n",
              "       [0., 1., 0.],\n",
              "       [0., 1., 0.],\n",
              "       [0., 1., 0.],\n",
              "       [0., 1., 0.],\n",
              "       [0., 1., 0.],\n",
              "       [0., 1., 0.],\n",
              "       [0., 1., 0.],\n",
              "       [0., 1., 0.],\n",
              "       [0., 1., 0.],\n",
              "       [0., 1., 0.],\n",
              "       [0., 1., 0.],\n",
              "       [0., 1., 0.],\n",
              "       [0., 1., 0.],\n",
              "       [0., 1., 0.],\n",
              "       [0., 1., 0.],\n",
              "       [0., 1., 0.],\n",
              "       [0., 1., 0.],\n",
              "       [0., 1., 0.],\n",
              "       [0., 1., 0.],\n",
              "       [0., 1., 0.],\n",
              "       [0., 1., 0.],\n",
              "       [0., 1., 0.],\n",
              "       [0., 1., 0.],\n",
              "       [0., 1., 0.],\n",
              "       [0., 1., 0.],\n",
              "       [0., 1., 0.],\n",
              "       [0., 1., 0.],\n",
              "       [0., 1., 0.],\n",
              "       [0., 1., 0.],\n",
              "       [0., 1., 0.],\n",
              "       [0., 1., 0.],\n",
              "       [0., 1., 0.],\n",
              "       [0., 1., 0.],\n",
              "       [0., 1., 0.],\n",
              "       [0., 1., 0.],\n",
              "       [0., 1., 0.],\n",
              "       [0., 1., 0.],\n",
              "       [0., 1., 0.],\n",
              "       [0., 1., 0.],\n",
              "       [0., 1., 0.],\n",
              "       [0., 1., 0.],\n",
              "       [0., 1., 0.],\n",
              "       [0., 1., 0.],\n",
              "       [0., 1., 0.],\n",
              "       [0., 1., 0.],\n",
              "       [0., 1., 0.],\n",
              "       [0., 1., 0.],\n",
              "       [0., 0., 1.],\n",
              "       [0., 0., 1.],\n",
              "       [0., 0., 1.],\n",
              "       [0., 0., 1.],\n",
              "       [0., 0., 1.],\n",
              "       [0., 0., 1.],\n",
              "       [0., 0., 1.],\n",
              "       [0., 0., 1.],\n",
              "       [0., 0., 1.],\n",
              "       [0., 0., 1.],\n",
              "       [0., 0., 1.],\n",
              "       [0., 0., 1.],\n",
              "       [0., 0., 1.],\n",
              "       [0., 0., 1.],\n",
              "       [0., 0., 1.],\n",
              "       [0., 0., 1.],\n",
              "       [0., 0., 1.],\n",
              "       [0., 0., 1.],\n",
              "       [0., 0., 1.],\n",
              "       [0., 0., 1.],\n",
              "       [0., 0., 1.],\n",
              "       [0., 0., 1.],\n",
              "       [0., 0., 1.],\n",
              "       [0., 0., 1.],\n",
              "       [0., 0., 1.],\n",
              "       [0., 0., 1.],\n",
              "       [0., 0., 1.],\n",
              "       [0., 0., 1.],\n",
              "       [0., 0., 1.],\n",
              "       [0., 0., 1.],\n",
              "       [0., 0., 1.],\n",
              "       [0., 0., 1.],\n",
              "       [0., 0., 1.],\n",
              "       [0., 0., 1.],\n",
              "       [0., 0., 1.],\n",
              "       [0., 0., 1.],\n",
              "       [0., 0., 1.],\n",
              "       [0., 0., 1.],\n",
              "       [0., 0., 1.],\n",
              "       [0., 0., 1.],\n",
              "       [0., 0., 1.],\n",
              "       [0., 0., 1.],\n",
              "       [0., 0., 1.],\n",
              "       [0., 0., 1.],\n",
              "       [0., 0., 1.],\n",
              "       [0., 0., 1.],\n",
              "       [0., 0., 1.],\n",
              "       [0., 0., 1.],\n",
              "       [0., 0., 1.],\n",
              "       [0., 0., 1.]], dtype=float32)"
            ]
          },
          "metadata": {},
          "execution_count": 30
        }
      ]
    },
    {
      "cell_type": "code",
      "metadata": {
        "id": "O3uukS2BPs0Q"
      },
      "source": [
        "model = tf.keras.Sequential([\n",
        "    tf.keras.layers.LSTM(64, input_shape=(10938, 300)),\n",
        "    tf.keras.layers.Dense(64, activation='relu'),\n",
        "    tf.keras.layers.Dense(3, activation='softmax')\n",
        "])"
      ],
      "execution_count": null,
      "outputs": []
    },
    {
      "cell_type": "markdown",
      "source": [
        "`(None, 10938, 300)`"
      ],
      "metadata": {
        "id": "yWN1eJMYtfLN"
      }
    },
    {
      "cell_type": "code",
      "source": [
        "model.summary()"
      ],
      "metadata": {
        "colab": {
          "base_uri": "https://localhost:8080/"
        },
        "id": "70FIgPe-BMPr",
        "outputId": "2526d1b5-2482-432f-c60a-863d39418a23"
      },
      "execution_count": null,
      "outputs": [
        {
          "output_type": "stream",
          "name": "stdout",
          "text": [
            "Model: \"sequential_2\"\n",
            "_________________________________________________________________\n",
            " Layer (type)                Output Shape              Param #   \n",
            "=================================================================\n",
            " lstm_2 (LSTM)               (None, 64)                93440     \n",
            "                                                                 \n",
            " dense_4 (Dense)             (None, 64)                4160      \n",
            "                                                                 \n",
            " dense_5 (Dense)             (None, 3)                 195       \n",
            "                                                                 \n",
            "=================================================================\n",
            "Total params: 97,795\n",
            "Trainable params: 97,795\n",
            "Non-trainable params: 0\n",
            "_________________________________________________________________\n"
          ]
        }
      ]
    },
    {
      "cell_type": "code",
      "metadata": {
        "id": "WZwQdus-ZEkq"
      },
      "source": [
        "model.compile(optimizer='adam', loss='categorical_crossentropy', metrics=['accuracy'])"
      ],
      "execution_count": null,
      "outputs": []
    },
    {
      "cell_type": "code",
      "metadata": {
        "colab": {
          "base_uri": "https://localhost:8080/"
        },
        "id": "TtuBupueZqbB",
        "outputId": "28211b44-67f8-4813-e96e-c167f96d333a"
      },
      "source": [
        "model.fit(X, y)"
      ],
      "execution_count": null,
      "outputs": [
        {
          "output_type": "stream",
          "name": "stdout",
          "text": [
            "Epoch 1/5\n"
          ]
        }
      ]
    },
    {
      "cell_type": "code",
      "source": [
        "model = tf.keras.Sequential([\n",
        "    tf.keras.layers.Bidirectional(tf.keras.layers.LSTM(64)),\n",
        "    tf.keras.layers.Dense(64, activation='relu'),\n",
        "    tf.keras.layers.Dense(1, activation='sigmoid')\n",
        "])"
      ],
      "metadata": {
        "id": "kzDIBdjnBIgR"
      },
      "execution_count": null,
      "outputs": []
    }
  ]
}