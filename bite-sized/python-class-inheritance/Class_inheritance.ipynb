{
  "nbformat": 4,
  "nbformat_minor": 0,
  "metadata": {
    "colab": {
      "provenance": []
    },
    "kernelspec": {
      "name": "python3",
      "display_name": "Python 3"
    },
    "language_info": {
      "name": "python"
    }
  },
  "cells": [
    {
      "cell_type": "markdown",
      "source": [
        "# Class inheritance\n",
        "\n",
        "## Class basics\n",
        "\n",
        "### Exercise 1: Class vs object attributes"
      ],
      "metadata": {
        "id": "xjAZmnVm9ZDw"
      }
    },
    {
      "cell_type": "code",
      "source": [
        "class Exercise1:\n",
        "\n",
        "  a = 1\n",
        "\n",
        "  def seta(self, value):\n",
        "    self.a = value"
      ],
      "metadata": {
        "id": "3RB89uAFTEkm"
      },
      "execution_count": null,
      "outputs": []
    },
    {
      "cell_type": "code",
      "source": [
        "e1 = Exercise1\n",
        "\n",
        "e2 = Exercise1()\n",
        "e2.a = 2\n",
        "\n",
        "e3 = Exercise1()\n",
        "e3.seta(3)\n",
        "\n",
        "e4 = Exercise1()\n",
        "\n",
        "print(f'{e1.a = }')\n",
        "print(f'{e2.a = }')\n",
        "print(f'{e3.a = }')\n",
        "print(f'{e4.a = }')"
      ],
      "metadata": {
        "colab": {
          "base_uri": "https://localhost:8080/"
        },
        "id": "_iN0n1hwTej2",
        "outputId": "9975e1d8-61df-4490-b214-c4c90a10667a"
      },
      "execution_count": null,
      "outputs": [
        {
          "output_type": "stream",
          "name": "stdout",
          "text": [
            "e1.a = 1\n",
            "e2.a = 2\n",
            "e3.a = 3\n",
            "e4.a = 1\n"
          ]
        }
      ]
    },
    {
      "cell_type": "code",
      "source": [
        "e1.a = 4\n",
        "\n",
        "print(f'{e1.a = }')\n",
        "print(f'{e2.a = }')\n",
        "print(f'{e3.a = }')\n",
        "print(f'{e4.a = }')"
      ],
      "metadata": {
        "colab": {
          "base_uri": "https://localhost:8080/"
        },
        "id": "xlyT69rWUdyp",
        "outputId": "77ff881c-8ca1-47f1-ea8a-2a996f7b7561"
      },
      "execution_count": null,
      "outputs": [
        {
          "output_type": "stream",
          "name": "stdout",
          "text": [
            "e1.a = 4\n",
            "e2.a = 2\n",
            "e3.a = 3\n",
            "e4.a = 4\n"
          ]
        }
      ]
    },
    {
      "cell_type": "markdown",
      "source": [
        "### Exercise 2: Instance vs class vs static methods"
      ],
      "metadata": {
        "id": "KGwuOuVDv7V5"
      }
    },
    {
      "cell_type": "code",
      "source": [
        "class Exercise2:\n",
        "\n",
        "    def seta_1(self, value):\n",
        "        self.a = value\n",
        "\n",
        "    @classmethod\n",
        "    def seta_2(cls, value):\n",
        "        cls.a = value\n",
        "\n",
        "    @staticmethod\n",
        "    def seta_3(value):\n",
        "        a = value"
      ],
      "metadata": {
        "id": "4ObWdMeUSnet"
      },
      "execution_count": null,
      "outputs": []
    },
    {
      "cell_type": "code",
      "source": [
        "e1 = Exercise2()\n",
        "\n",
        "e1.seta_1(1)\n",
        "e1.seta_2(2)\n",
        "e1.seta_3(3)"
      ],
      "metadata": {
        "id": "D88_fhzjbCY5"
      },
      "execution_count": null,
      "outputs": []
    },
    {
      "cell_type": "code",
      "source": [
        "e1.a"
      ],
      "metadata": {
        "colab": {
          "base_uri": "https://localhost:8080/"
        },
        "id": "1c8RI80hbWKh",
        "outputId": "939f20cb-d6fa-4a5c-ad40-d1c5234cffa3"
      },
      "execution_count": null,
      "outputs": [
        {
          "output_type": "execute_result",
          "data": {
            "text/plain": [
              "1"
            ]
          },
          "metadata": {},
          "execution_count": 13
        }
      ]
    },
    {
      "cell_type": "code",
      "source": [
        "e2 = Exercise2()\n",
        "e2.a"
      ],
      "metadata": {
        "colab": {
          "base_uri": "https://localhost:8080/"
        },
        "id": "C8r3evKubZ_W",
        "outputId": "affed4a2-982a-49e0-a1d3-981ffcc1a981"
      },
      "execution_count": null,
      "outputs": [
        {
          "output_type": "execute_result",
          "data": {
            "text/plain": [
              "2"
            ]
          },
          "metadata": {},
          "execution_count": 14
        }
      ]
    },
    {
      "cell_type": "markdown",
      "source": [
        "## Class inheritance basics\n",
        "\n",
        "### Inheriting attributes"
      ],
      "metadata": {
        "id": "_KvjQSGKvs8z"
      }
    },
    {
      "cell_type": "code",
      "source": [
        "class Parent:\n",
        "    a = 1\n",
        "    b = 2\n",
        "\n",
        "\n",
        "class Child(Parent):\n",
        "    b = 22  # overwrite b\n",
        "    c = 3   # define new attribute c"
      ],
      "metadata": {
        "id": "fvb4NewNRxf_"
      },
      "execution_count": null,
      "outputs": []
    },
    {
      "cell_type": "code",
      "source": [
        "p = Parent()\n",
        "c = Child()\n",
        "\n",
        "\n",
        "print(f'{p.a = }')\n",
        "print(f'{p.b = }')\n",
        "print(f'{c.a = }')  # inherited from parent\n",
        "print(f'{c.b = }')  # overwritten\n",
        "print(f'{c.c = }')  # newly created attribute"
      ],
      "metadata": {
        "colab": {
          "base_uri": "https://localhost:8080/"
        },
        "id": "PkZ74tjkRxAq",
        "outputId": "44d9aaa8-672e-48b1-aea1-fca3e34fb807"
      },
      "execution_count": null,
      "outputs": [
        {
          "output_type": "stream",
          "name": "stdout",
          "text": [
            "p.a = 1\n",
            "p.b = 2\n",
            "c.a = 1\n",
            "c.b = 22\n",
            "c.c = 3\n"
          ]
        }
      ]
    },
    {
      "cell_type": "markdown",
      "source": [
        "### Inheriting methods"
      ],
      "metadata": {
        "id": "Wq6DOChsxdmi"
      }
    },
    {
      "cell_type": "code",
      "source": [
        "class Parent:\n",
        "    def method1(self): return 1\n",
        "    def method2(self): return 2\n",
        "\n",
        "\n",
        "class Child(Parent):\n",
        "    def method2(self): return 22\n",
        "    def method3(self): return 3"
      ],
      "metadata": {
        "id": "POSpAkwaxgTf"
      },
      "execution_count": null,
      "outputs": []
    },
    {
      "cell_type": "code",
      "source": [
        "p = Parent()\n",
        "c = Child()\n",
        "\n",
        "\n",
        "print(f'{p.method1() = }')\n",
        "print(f'{p.method2() = }')\n",
        "print(f'{c.method1() = }')  # inherited from parent\n",
        "print(f'{c.method2() = }')  # overwritten\n",
        "print(f'{c.method3() = }')  # newly created attribute"
      ],
      "metadata": {
        "colab": {
          "base_uri": "https://localhost:8080/"
        },
        "id": "TikgSmq-yHtv",
        "outputId": "3607e2f2-2f7a-47f8-d6e9-01af781ddc0d"
      },
      "execution_count": null,
      "outputs": [
        {
          "output_type": "stream",
          "name": "stdout",
          "text": [
            "p.method1() = 1\n",
            "p.method2() = 2\n",
            "c.method1() = 1\n",
            "c.method2() = 22\n",
            "c.method3() = 3\n"
          ]
        }
      ]
    },
    {
      "cell_type": "markdown",
      "source": [
        "### Extending methods\n",
        "\n"
      ],
      "metadata": {
        "id": "YVVLieO6yTTg"
      }
    },
    {
      "cell_type": "code",
      "source": [
        "class Parent:\n",
        "    def __init__(self, a):\n",
        "        self.a = a\n",
        "\n",
        "\n",
        "class Child(Parent):\n",
        "    def __init__(self, a, b):\n",
        "      super().__init__(a)  # make call to parent class' __init__\n",
        "      self.b = b           # manually add extra attribute"
      ],
      "metadata": {
        "id": "Kc5i_6LYyXsN"
      },
      "execution_count": null,
      "outputs": []
    },
    {
      "cell_type": "code",
      "source": [
        "p = Parent(1)\n",
        "c = Child(1, 2)\n",
        "\n",
        "print(f'Parent attributes: {p.__dict__}')\n",
        "print(f'Child attributes: {c.__dict__}')"
      ],
      "metadata": {
        "colab": {
          "base_uri": "https://localhost:8080/"
        },
        "id": "ZJoBaUMqyYAu",
        "outputId": "f910586e-5c3f-4127-c4d6-2801c298dcb7"
      },
      "execution_count": null,
      "outputs": [
        {
          "output_type": "stream",
          "name": "stdout",
          "text": [
            "Parent attributes: {'a': 1}\n",
            "Child attributes: {'a': 1, 'b': 2}\n"
          ]
        }
      ]
    },
    {
      "cell_type": "markdown",
      "source": [
        "### Exercise 3: Single inheritance\n"
      ],
      "metadata": {
        "id": "7bmQz2amyYJX"
      }
    },
    {
      "cell_type": "code",
      "source": [
        "class Parent:\n",
        "    a = 1\n",
        "    b = 2\n",
        "    c = 3\n",
        "    d = 4\n",
        "    def __init__(self, a, b):\n",
        "        self.a = a\n",
        "\n",
        "\n",
        "class Child(Parent):\n",
        "    c = 33\n",
        "    e = 5\n",
        "    def __init__(self, a, b, c, d, e):\n",
        "      super().__init__(a, b)\n",
        "      self.d = d"
      ],
      "metadata": {
        "id": "NJnzs0n9yYRu"
      },
      "execution_count": null,
      "outputs": []
    },
    {
      "cell_type": "code",
      "source": [
        "c = Child(-1, -2, -3, -4, -5)\n",
        "\n",
        "print(f'{c.a = }')  # overwritten by super call to Parent's __init__ method\n",
        "print(f'{c.b = }')  # class attribute inherited by parent\n",
        "print(f'{c.c = }')  # class attribute overwritten by child class\n",
        "print(f'{c.d = }')  # instance attribute defined in Child's __init__ method\n",
        "print(f'{c.e = }')  # child class attribute"
      ],
      "metadata": {
        "colab": {
          "base_uri": "https://localhost:8080/"
        },
        "id": "G3gsAQx7yYbu",
        "outputId": "4ec06803-0179-4473-a6fe-ff15d874e156"
      },
      "execution_count": null,
      "outputs": [
        {
          "output_type": "stream",
          "name": "stdout",
          "text": [
            "c.a = -1\n",
            "c.b = 2\n",
            "c.c = 33\n",
            "c.d = -4\n",
            "c.e = 5\n"
          ]
        }
      ]
    },
    {
      "cell_type": "markdown",
      "source": [
        "## Multiple Inheritance"
      ],
      "metadata": {
        "id": "m4dq_d-o4qhw"
      }
    },
    {
      "cell_type": "code",
      "source": [
        "class ParentA:\n",
        "  a = 1\n",
        "  b = 2\n",
        "  c = 3\n",
        "\n",
        "class ParentB:\n",
        "  c = 33\n",
        "  d = 4\n",
        "\n",
        "class Child(ParentA, ParentB):\n",
        "  b = 22\n",
        "  e = 5"
      ],
      "metadata": {
        "id": "cjGuPXdF4qYY"
      },
      "execution_count": null,
      "outputs": []
    },
    {
      "cell_type": "code",
      "source": [
        "c = Child()\n",
        "\n",
        "\n",
        "print(f'{c.a = }')  # inherited from ParentA\n",
        "print(f'{c.b = }')  # overwritten by Child\n",
        "print(f'{c.c = }')  # inherited from both parents (ParentA prevails)\n",
        "print(f'{c.d = }')  # inherited from ParentB\n",
        "print(f'{c.e = }')  # defind in Child"
      ],
      "metadata": {
        "colab": {
          "base_uri": "https://localhost:8080/"
        },
        "id": "WC4Be0qj4qNa",
        "outputId": "016a1ef5-dcf4-4673-b972-75e46db70f48"
      },
      "execution_count": null,
      "outputs": [
        {
          "output_type": "stream",
          "name": "stdout",
          "text": [
            "c.a = 1\n",
            "c.b = 22\n",
            "c.c = 3\n",
            "c.d = 4\n",
            "c.e = 5\n"
          ]
        }
      ]
    },
    {
      "cell_type": "markdown",
      "source": [
        "## Method Resolution Order (MRO)"
      ],
      "metadata": {
        "id": "YTVkeku-5s2r"
      }
    },
    {
      "cell_type": "code",
      "source": [
        "class Base:\n",
        "\n",
        "  def print_name(self):\n",
        "    print('Base')\n",
        "\n",
        "\n",
        "class Derived(Base):\n",
        "\n",
        "  def print_name(self):\n",
        "    print('Derived')\n",
        "    super().print_name()\n",
        "\n",
        "\n",
        "class DerivedDerived(Derived):\n",
        "\n",
        "  def print_name(self):\n",
        "    print('DerivedDerived')\n",
        "    super().print_name()\n"
      ],
      "metadata": {
        "id": "8DnGm0TY6Gw4"
      },
      "execution_count": null,
      "outputs": []
    },
    {
      "cell_type": "code",
      "source": [
        "d = DerivedDerived()\n",
        "\n",
        "d.print_name()"
      ],
      "metadata": {
        "colab": {
          "base_uri": "https://localhost:8080/"
        },
        "id": "rRGJvAXLG-C3",
        "outputId": "1b2f5ae1-a89a-447d-9ff6-0057ae676824"
      },
      "execution_count": null,
      "outputs": [
        {
          "output_type": "stream",
          "name": "stdout",
          "text": [
            "DerivedDerived\n",
            "Derived\n",
            "Base\n"
          ]
        }
      ]
    },
    {
      "cell_type": "code",
      "source": [
        "class Base:\n",
        "\n",
        "  def print_name(self):\n",
        "    print('Base')\n",
        "\n",
        "\n",
        "class DerivedA(Base):\n",
        "\n",
        "  def print_name(self):\n",
        "    print('DerivedA')\n",
        "    super().print_name()\n",
        "\n",
        "\n",
        "class DerivedB(Base):\n",
        "\n",
        "  def print_name(self):\n",
        "    print('DerivedB')\n",
        "    super().print_name()\n",
        "\n",
        "\n",
        "class DerivedDerived(DerivedA, DerivedB):\n",
        "\n",
        "  def print_name(self):\n",
        "    print('DerivedDerived')\n",
        "    super().print_name()"
      ],
      "metadata": {
        "id": "AV4jYSLbHRcU"
      },
      "execution_count": null,
      "outputs": []
    },
    {
      "cell_type": "code",
      "source": [
        "d = DerivedDerived()\n",
        "\n",
        "d.print_name()"
      ],
      "metadata": {
        "colab": {
          "base_uri": "https://localhost:8080/"
        },
        "id": "2T2bKO_BHhbP",
        "outputId": "fe9fff63-ea41-44e2-a532-f2790036b3c8"
      },
      "execution_count": null,
      "outputs": [
        {
          "output_type": "stream",
          "name": "stdout",
          "text": [
            "DerivedDerived\n",
            "DerivedA\n",
            "DerivedB\n",
            "Base\n"
          ]
        }
      ]
    },
    {
      "cell_type": "markdown",
      "source": [
        "## Abstract Classes\n",
        "\n",
        "An abstract base class is a class that cannot be instantiated directly. It is created by inheriting from the `abc.ABC` class or by using the `@abc.abstractmethod` decorator on one or more methods within the class.\n",
        "Abstract classes are meant to be subclassed, and they typically define a set of abstract methods (methods without implementation) that the concrete subclasses must override.\n",
        "\n",
        "ABCs are used to define a common interface or contract that concrete subclasses must adhere to. They establish a standard API for a group of related classes.\n",
        "Abstract classes allow you to enforce certain methods to be implemented by the subclasses, ensuring consistency and providing a clear design for the class hierarchy."
      ],
      "metadata": {
        "id": "hx9aQHiw91oS"
      }
    },
    {
      "cell_type": "code",
      "source": [
        "from abc import ABC, abstractmethod\n",
        "\n",
        "class Shape(ABC):\n",
        "\n",
        "    @abstractmethod\n",
        "    def area(self):\n",
        "        \"\"\"\n",
        "        This method needs to be overwritten by its child classes\n",
        "        \"\"\"\n",
        "        pass\n",
        "\n",
        "class Circle(Shape):\n",
        "    def __init__(self, radius):\n",
        "        self.radius = radius\n",
        "\n",
        "    def area(self):\n",
        "        return 3.14 * self.radius ** 2\n",
        "\n",
        "\n",
        "class Square(Shape):\n",
        "    def __init__(self, side):\n",
        "        self.side = side\n",
        "\n",
        "    def area(self):\n",
        "        return self.side ** 2"
      ],
      "metadata": {
        "id": "2gEI6XJKHpqM"
      },
      "execution_count": null,
      "outputs": []
    },
    {
      "cell_type": "code",
      "source": [
        "circle = Circle(3)\n",
        "square = Square(2)\n",
        "\n",
        "print(f'{circle.area() = }')\n",
        "print(f'{square.area() = }')"
      ],
      "metadata": {
        "colab": {
          "base_uri": "https://localhost:8080/"
        },
        "id": "iSubjtToIsjI",
        "outputId": "2cf2056b-336e-45b3-c508-eebbb452783d"
      },
      "execution_count": null,
      "outputs": [
        {
          "output_type": "stream",
          "name": "stdout",
          "text": [
            "circle.area() = 28.26\n",
            "square.area() = 4\n"
          ]
        }
      ]
    },
    {
      "cell_type": "markdown",
      "source": [
        "The point of this is that we can create functions that expect a `Shape` object, for which we can assume that it will have an `.area()` method.\n",
        "\n",
        "\n",
        "## Tips and Best Practices\n",
        "\n",
        "1. **Code Reusability**:\n",
        "\n",
        "Class inheritance enables code reusability by creating a base (parent) class with common attributes and methods, which can be extended by multiple (child) classes.\n",
        "\n",
        "2. **Polymorphism**:\n",
        "\n",
        "Inheritance allows achieving polymorphism, where different classes can have the same method name but behave differently. This promotes flexibility in working with objects of different classes using the same interface.\n",
        "Specialization and Generalization:\n",
        "\n",
        "Class inheritance allows specialization and generalization of classes. Specific subclasses can add unique features (specialization) while maintaining a common interface through the parent class (generalization).\n",
        "\n",
        "3. **Organizing Code**:\n",
        "\n",
        "Inheritance helps in organizing code into logical hierarchies, providing a structured way to group related classes and making the codebase easier to navigate.\n",
        "\n",
        "4. **Avoiding Code Duplication**:\n",
        "\n",
        "Inheritance reduces code duplication by placing common functionality in the parent class, reducing the likelihood of errors and making future updates more manageable.\n",
        "\n",
        "5. **Overriding Methods**:\n",
        "\n",
        "When overriding methods in child classes, ensure they maintain the same functionality as the parent class or have a clear reason for deviating from the parent's behavior.\n",
        "\n",
        "6. **Avoid Deep Hierarchies**:\n",
        "\n",
        "Avoid creating excessively deep class hierarchies, as they can lead to complex code and potential method resolution order (MRO) issues.\n",
        "\n",
        "7. **Use Composition When Appropriate**:\n",
        "\n",
        "Consider using composition (objects containing other objects) when a \"has-a\" relationship is more appropriate than an \"is-a\" relationship between classes.\n",
        "\n",
        "8. **Favor Clarity Over Cleverness**:\n",
        "\n",
        "Strive for clear and readable code rather than overly clever or complex implementations. Avoid unnecessary use of inheritance solely for the sake of inheritance.\n",
        "\n",
        "9. **Testing and Refactoring**:\n",
        "\n",
        "Write test cases to ensure the behavior of parent and child classes is as expected. Regularly review and refactor the code as the project evolves to maintain a clean and efficient design."
      ],
      "metadata": {
        "id": "h6USfzfNJHn9"
      }
    }
  ]
}