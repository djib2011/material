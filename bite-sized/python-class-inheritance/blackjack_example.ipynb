{
  "nbformat": 4,
  "nbformat_minor": 0,
  "metadata": {
    "colab": {
      "provenance": []
    },
    "kernelspec": {
      "name": "python3",
      "display_name": "Python 3"
    },
    "language_info": {
      "name": "python"
    }
  },
  "cells": [
    {
      "cell_type": "code",
      "execution_count": null,
      "metadata": {
        "id": "PEox2dip-4Ig"
      },
      "outputs": [],
      "source": [
        "import numpy as np\n",
        "\n",
        "\n",
        "class Deck:\n",
        "\n",
        "    ranks = tuple(range(2, 11)) + ('J', 'Q', 'K', 'A')\n",
        "    suits = ('D', 'H', 'C', 'S')\n",
        "    cards = tuple(str(v) + s for v in ranks for s in ('D', 'H', 'C', 'S'))\n",
        "    colors = {'D': 'R', 'H': 'R', 'C': 'B', 'S': 'B'}\n",
        "\n",
        "    def __init__(self, num_packs=1):\n",
        "        self._stock = self.shuffle(self.cards * num_packs)\n",
        "        self._drawn = []\n",
        "\n",
        "    def draw(self, n):\n",
        "        cards = [self._stock.pop(0) for _ in range(n)]\n",
        "        self._drawn += cards\n",
        "        return cards\n",
        "\n",
        "    def reset(self):\n",
        "        self._stock = self.shuffle(self._stock + self._drawn)\n",
        "        self._drawn = []\n",
        "\n",
        "    def __getitem__(self, index):\n",
        "        return self.stock[index]\n",
        "\n",
        "    def __eq__(self, other_deck):\n",
        "        return len(self) == len(other_deck) and all([c1 == c2 for c1, c2\n",
        "                                                 in zip(self, other_deck)])\n",
        "\n",
        "    def __contains__(self, card):\n",
        "        return card in self.stock\n",
        "\n",
        "    def __repr__(self):\n",
        "        return f'Deck({len(self)})'\n",
        "\n",
        "    def __len__(self):\n",
        "        return len(self.stock)\n",
        "\n",
        "    @property\n",
        "    def stock(self):\n",
        "        return self._stock\n",
        "\n",
        "    @property\n",
        "    def drawn(self):\n",
        "        return self._drawn\n",
        "\n",
        "    @staticmethod\n",
        "    def shuffle(cards):\n",
        "      return list(np.random.permutation(cards))"
      ]
    },
    {
      "cell_type": "code",
      "source": [
        "class CardGame:\n",
        "\n",
        "    def __init__(self, num_players=2, num_packs=5):\n",
        "        self._num_players = num_players\n",
        "        self._deck = Deck(num_packs=num_packs)\n",
        "        self._player_hands = [[] for _ in range(num_players)]\n",
        "\n",
        "    def draw(self, num_cards=1, burn=False):\n",
        "        cards = self._deck.draw(num_cards)\n",
        "        if burn:\n",
        "            self._deck.draw()\n",
        "        return cards\n",
        "\n",
        "    def deal(self, num_cards, burn=False):\n",
        "        return list(zip(*[self.draw(self.num_players, burn=burn) for i in range(num_cards)]))\n",
        "\n",
        "    def update_players_hands(self, num_cards, burn=False):\n",
        "        cards = self.deal(num_cards=num_cards, burn=burn)\n",
        "        for player_hand, player_new_cards in zip(self.player_hands, cards):\n",
        "            player_hand.extend(list(player_new_cards))\n",
        "\n",
        "    def get_hand(self, player_id):\n",
        "        return self.player_hands[player_id]\n",
        "\n",
        "    @property\n",
        "    def num_players(self):\n",
        "        return self._num_players\n",
        "\n",
        "    @property\n",
        "    def deck(self):\n",
        "        return self._deck\n",
        "\n",
        "    @property\n",
        "    def player_hands(self):\n",
        "        return self._player_hands\n",
        "\n",
        "    def reset(self):\n",
        "      num_packs = len(self.deck) // len(self.deck.cards)\n",
        "      self.__init__(num_players=self.num_players, num_packs=num_packs)"
      ],
      "metadata": {
        "id": "6OKwzVVL-8oW"
      },
      "execution_count": null,
      "outputs": []
    },
    {
      "cell_type": "code",
      "source": [
        "from abc import ABC, abstractmethod\n",
        "\n",
        "\n",
        "class BlackJackPlayer(ABC):\n",
        "\n",
        "    ALLOWED_MOVES = ('HIT', 'STAND')\n",
        "\n",
        "    @abstractmethod\n",
        "    def strategy(self, hand_value):\n",
        "        pass\n",
        "\n",
        "    def is_valid_move(play_func):\n",
        "        def wrapper(*args, **kwargs):\n",
        "            move = play_func(*args, **kwargs)\n",
        "            if move in BlackJackPlayer.ALLOWED_MOVES:\n",
        "              return move\n",
        "            raise ValueError(f'Invalid move. Only values {BlackJackPlayer.ALLOWED_MOVES} are allowed')\n",
        "        return wrapper\n",
        "\n",
        "    @is_valid_move\n",
        "    def play(self, hand_value):\n",
        "        return self.strategy(hand_value)\n",
        "\n",
        "    def __repr__(self):\n",
        "        return self.__class__.__name__\n",
        "\n",
        "class GreedyBlackJackPlayer(BlackJackPlayer):\n",
        "\n",
        "    def strategy(self, hand_value):\n",
        "        if hand_value > 19:\n",
        "            return 'STAND'\n",
        "        else:\n",
        "            return 'HIT'\n",
        "\n",
        "class InvalidMovePlayer(BlackJackPlayer):\n",
        "    def strategy(self, hand_value):\n",
        "        if hand_value > 19:\n",
        "            return 'STAND'\n",
        "        elif hand_value == 15:\n",
        "            return 'INVALID'\n",
        "        else:\n",
        "            return 'HIT'\n",
        "\n",
        "\n",
        "class CautiousBlackJackPlayer(BlackJackPlayer):\n",
        "\n",
        "    def strategy(self, hand_value):\n",
        "        if hand_value > 15:\n",
        "            return 'STAND'\n",
        "        else:\n",
        "            return 'HIT'\n",
        "\n",
        "\n",
        "class BlackJackDealer(BlackJackPlayer, ABC):\n",
        "\n",
        "    ALLOWED_MOVES = ('HIT', 'STAND')\n",
        "\n",
        "    @abstractmethod\n",
        "    def strategy(self, hand_value, player_values):\n",
        "        pass\n",
        "\n",
        "    @BlackJackPlayer.is_valid_move\n",
        "    def play(self, hand_value, player_values):\n",
        "        return self.strategy(hand_value, player_values)\n",
        "\n",
        "\n",
        "class BeatOneBlackJackDealer(BlackJackDealer):\n",
        "\n",
        "    def strategy(self, hand_value, player_values):\n",
        "        if any([hand_value >= player_value for player_value in player_values]):\n",
        "            return 'STAND'\n",
        "        return 'HIT'\n",
        "\n",
        "\n",
        "class BeatAllBlackJackDealer(BlackJackDealer):\n",
        "\n",
        "    def strategy(self, hand_value, player_values):\n",
        "        if all([hand_value >= player_value for player_value in player_values]):\n",
        "            return 'STAND'\n",
        "        return 'HIT'\n",
        "\n",
        "def player_factory(player_type):\n",
        "    players = {'greedy': GreedyBlackJackPlayer,\n",
        "               'cautious': CautiousBlackJackPlayer}\n",
        "    return players[player_type]()\n",
        "\n",
        "def dealer_factory(dealer_type):\n",
        "    dealers = {'beat_one': BeatOneBlackJackDealer,\n",
        "               'beat_all': BeatAllBlackJackDealer}\n",
        "    return dealers[dealer_type]()"
      ],
      "metadata": {
        "id": "R3jA5h9xDtaX"
      },
      "execution_count": null,
      "outputs": []
    },
    {
      "cell_type": "code",
      "source": [
        "from types import resolve_bases\n",
        "class Blackjack(CardGame):\n",
        "\n",
        "    card_values = {str(c): c for c in range(2, 11)}\n",
        "    card_values.update({c: 10 for c in ('J', 'Q', 'K')})\n",
        "    card_values.update({'A': 11})  # I simplified the game a bit\n",
        "\n",
        "    def __init__(self, player_types, dealer_type, num_packs=5, verbose=0):\n",
        "        super().__init__(num_players=len(player_types)+1, num_packs=num_packs)\n",
        "        self._players = [player_factory(player_type) for player_type in player_types]\n",
        "        self._dealer = dealer_factory(dealer_type)\n",
        "        self.verbose = verbose\n",
        "\n",
        "    def ask_player(self, player_id):\n",
        "        player_hand = self.player_hands[player_id]\n",
        "        player_hand_value = self.calculate_value(player_hand)\n",
        "        return self.players[player_id].play(player_hand_value) if player_hand_value else 'STAND'\n",
        "\n",
        "    def ask_dealer(self, player_hands):\n",
        "        dealer_hand = self.player_hands[-1]\n",
        "        dealer_hand_value = self.calculate_value(dealer_hand)\n",
        "        return self.dealer.play(dealer_hand_value, player_hands) if dealer_hand_value else 'STAND'\n",
        "\n",
        "    def play_player_round(self, player_id):\n",
        "        while self.ask_player(player_id) == 'HIT':\n",
        "            new_card = self.draw()[0]\n",
        "            self.player_hands[player_id].append(new_card)\n",
        "            if self.verbose:\n",
        "                print(f'  Player {player_id+1} decides to \"HIT\", got {new_card} for a '\\\n",
        "                f'total value of: {self.calculate_value(self.player_hands[player_id])}')\n",
        "\n",
        "        current_value = self.calculate_value(self.player_hands[player_id])\n",
        "        if self.verbose and current_value:\n",
        "            print(f'  Player {player_id+1} decides to \"STAND\"')\n",
        "        return current_value\n",
        "\n",
        "    def play_dealer_round(self, player_hands):\n",
        "        if self.verbose:\n",
        "            print(f'  Dealer reveals his cards and has {self.player_hands[-1]} for '\\\n",
        "                  f'a total value of: {self.calculate_value(self.player_hands[-1])}')\n",
        "\n",
        "        while self.ask_dealer(player_hands) == 'HIT':\n",
        "            new_card = self.draw()[0]\n",
        "            self.player_hands[-1].append(new_card)\n",
        "            if self.verbose:\n",
        "                print(f'  Dealer decides to \"HIT\", got {new_card} for a '\\\n",
        "                f'total value of: {self.calculate_value(self.player_hands[-1])}')\n",
        "\n",
        "        current_value = self.calculate_value(self.player_hands[-1])\n",
        "        if self.verbose and current_value:\n",
        "            print(f'  Dealer decides to \"STAND\"')\n",
        "        return self.calculate_value(self.player_hands[-1])\n",
        "\n",
        "    def play_full_round(self):\n",
        "\n",
        "        self._player_hands = [[] for _ in range(self.num_players)]\n",
        "        self.update_players_hands(2)\n",
        "\n",
        "        if self.verbose:\n",
        "            print('----------')\n",
        "            print('Dealing...')\n",
        "            print('----------')\n",
        "\n",
        "            for i, cards in enumerate(self.player_hands[:-1]):\n",
        "                print(f'  Player {i+1} got {cards} for a total value of: {self.calculate_value(cards)}')\n",
        "\n",
        "            print('------------')\n",
        "            print('Player turns')\n",
        "            print('------------')\n",
        "\n",
        "        player_hand_values = [self.play_player_round(player_id)\n",
        "                              for player_id in range(self.num_players-1)]\n",
        "\n",
        "        if self.verbose:\n",
        "            print('-----------')\n",
        "            print('Dealer turn')\n",
        "            print('-----------')\n",
        "\n",
        "        dealer_hand_value = self.play_dealer_round(player_hand_values)\n",
        "\n",
        "        results = [self.resolve_hand(value, dealer_hand_value) for value in player_hand_values]\n",
        "\n",
        "        if self.verbose:\n",
        "            print('------')\n",
        "            print('Result')\n",
        "            print('------')\n",
        "\n",
        "            outcomes = {False: 'lost', True: 'won'}\n",
        "\n",
        "            for i, outcome in enumerate(results):\n",
        "                print(f' Player {i+1} {outcomes[outcome]}')\n",
        "\n",
        "        return results\n",
        "\n",
        "    def resolve_hand(self, value, dealers_value=21):\n",
        "        if dealers_value:\n",
        "            if value > dealers_value:\n",
        "                return True\n",
        "            else:\n",
        "                return False\n",
        "        else:\n",
        "            if value > 21:\n",
        "                return False\n",
        "            if value == 21:\n",
        "                return True\n",
        "            return value\n",
        "\n",
        "    def new_round(self, num_players=None):\n",
        "      self.reset()\n",
        "\n",
        "    @property\n",
        "    def players(self):\n",
        "        return self._players\n",
        "\n",
        "    @property\n",
        "    def dealer(self):\n",
        "        return self._dealer\n",
        "\n",
        "    @staticmethod\n",
        "    def calculate_value(cards):\n",
        "        raw_value = sum([Blackjack.card_values[card[:-1]] for card in cards])\n",
        "        return raw_value if raw_value <=22 else 0"
      ],
      "metadata": {
        "id": "LQeUB9n7_ARv"
      },
      "execution_count": null,
      "outputs": []
    },
    {
      "cell_type": "code",
      "source": [
        "bj = Blackjack(['greedy', 'greedy', 'cautious', 'cautious'], 'beat_one', verbose=1)"
      ],
      "metadata": {
        "id": "vOmV-kdnKXWc"
      },
      "execution_count": null,
      "outputs": []
    },
    {
      "cell_type": "code",
      "source": [
        "bj.players, bj.dealer"
      ],
      "metadata": {
        "colab": {
          "base_uri": "https://localhost:8080/"
        },
        "id": "-GJaU5Y7RaNK",
        "outputId": "2013b61e-78cc-4d58-8ae7-fac35a795f74"
      },
      "execution_count": null,
      "outputs": [
        {
          "output_type": "execute_result",
          "data": {
            "text/plain": [
              "([GreedyBlackJackPlayer,\n",
              "  GreedyBlackJackPlayer,\n",
              "  CautiousBlackJackPlayer,\n",
              "  CautiousBlackJackPlayer],\n",
              " BeatOneBlackJackDealer)"
            ]
          },
          "metadata": {},
          "execution_count": 177
        }
      ]
    },
    {
      "cell_type": "code",
      "source": [
        "bj.player_hands"
      ],
      "metadata": {
        "colab": {
          "base_uri": "https://localhost:8080/"
        },
        "id": "t5TuPF6AReP9",
        "outputId": "4abbe3e0-dac2-46b8-8a0f-ce1a974d63c0"
      },
      "execution_count": null,
      "outputs": [
        {
          "output_type": "execute_result",
          "data": {
            "text/plain": [
              "[[], [], [], [], []]"
            ]
          },
          "metadata": {},
          "execution_count": 175
        }
      ]
    },
    {
      "cell_type": "code",
      "source": [
        "bj.play_full_round()"
      ],
      "metadata": {
        "colab": {
          "base_uri": "https://localhost:8080/"
        },
        "id": "_lkW4UiJUcTn",
        "outputId": "08557363-dc46-4b5e-bb0b-c382072a70d3"
      },
      "execution_count": null,
      "outputs": [
        {
          "output_type": "stream",
          "name": "stdout",
          "text": [
            "----------\n",
            "Dealing...\n",
            "----------\n",
            "  Player 1 got ['4H', '4D'] for a total value of: 8\n",
            "  Player 2 got ['9H', '9C'] for a total value of: 18\n",
            "  Player 3 got ['10D', '4D'] for a total value of: 14\n",
            "  Player 4 got ['7C', '4C'] for a total value of: 11\n",
            "------------\n",
            "Player turns\n",
            "------------\n",
            "  Player 1 decides to \"HIT\", got 5C for a total value of: 13\n",
            "  Player 1 decides to \"HIT\", got 6S for a total value of: 19\n",
            "  Player 1 decides to \"HIT\", got 4D for a total value of: 0\n",
            "  Player 2 decides to \"HIT\", got 2S for a total value of: 20\n",
            "  Player 2 decides to \"STAND\"\n",
            "  Player 3 decides to \"HIT\", got 7C for a total value of: 21\n",
            "  Player 3 decides to \"STAND\"\n",
            "  Player 4 decides to \"HIT\", got 2D for a total value of: 13\n",
            "  Player 4 decides to \"HIT\", got 7S for a total value of: 20\n",
            "  Player 4 decides to \"STAND\"\n",
            "-----------\n",
            "Dealer turn\n",
            "-----------\n",
            "  Dealer reveals his cards and has ['AH', '10S'] for a total value of: 21\n",
            "  Dealer decides to \"STAND\"\n",
            "------\n",
            "Result\n",
            "------\n",
            " Player 1 lost\n",
            " Player 2 lost\n",
            " Player 3 lost\n",
            " Player 4 lost\n"
          ]
        },
        {
          "output_type": "execute_result",
          "data": {
            "text/plain": [
              "[False, False, False, False]"
            ]
          },
          "metadata": {},
          "execution_count": 176
        }
      ]
    },
    {
      "cell_type": "code",
      "source": [
        "len(bj.deck.drawn)"
      ],
      "metadata": {
        "colab": {
          "base_uri": "https://localhost:8080/"
        },
        "id": "V1YXjTfdaOTk",
        "outputId": "3f8eb02d-dfe5-4394-cc77-b13430b65273"
      },
      "execution_count": null,
      "outputs": [
        {
          "output_type": "execute_result",
          "data": {
            "text/plain": [
              "83"
            ]
          },
          "metadata": {},
          "execution_count": 169
        }
      ]
    }
  ]
}