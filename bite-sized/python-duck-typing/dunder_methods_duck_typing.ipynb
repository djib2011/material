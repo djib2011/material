{
  "nbformat": 4,
  "nbformat_minor": 0,
  "metadata": {
    "colab": {
      "provenance": [],
      "toc_visible": true
    },
    "kernelspec": {
      "name": "python3",
      "display_name": "Python 3"
    },
    "language_info": {
      "name": "python"
    }
  },
  "cells": [
    {
      "cell_type": "markdown",
      "source": [
        "# Class dunder methods and duck typing\n",
        "\n",
        "In this tutorial we'll see how we can make supercharge our classes to make them more interoperable with python's built-in functions.\n",
        "\n",
        "This tutorial is targeted at someone who has some experience working with python classes (i.e. understands concepts such as class/instance attributes/methods, etc.).\n",
        "\n",
        "## Premise\n",
        "\n",
        "We want to built a class that represents a regular card deck.\n",
        "\n",
        "![](https://external-content.duckduckgo.com/iu/?u=http%3A%2F%2Fclipart-library.com%2Fimages%2FLTd5gKzAc.png)\n",
        "\n",
        "A deck consists of 52 cards. Each card has a rank (i.e. *2-10, J, Q, K, A*) and a suit (*spade, club, diamond, heart*), where *spades* and *clubs* are *black* in color, while *diamonds* and *hearts* are *red*.\n",
        "\n",
        "We will represent each card by 2 characters, the first being the rank and the second the suit. E.g. 5 of hearts will be represented as `'5H'`.\n",
        "\n",
        "Let's first crete a very basic class to contain all possible cards.\n",
        "\n"
      ],
      "metadata": {
        "id": "nLYevwLdEqfu"
      }
    },
    {
      "cell_type": "code",
      "source": [
        "class Deck:\n",
        "  ranks = tuple(range(2, 11)) + ('J', 'Q', 'K', 'A')\n",
        "  suits = ('D', 'H', 'C', 'S')\n",
        "  cards = tuple(str(v) + s for v in ranks for s in ('D', 'H', 'C', 'S'))\n",
        "  colors = {'D': 'R', 'H': 'R', 'C': 'B', 'S': 'B'}"
      ],
      "metadata": {
        "id": "5461UtOyNUTw"
      },
      "execution_count": 1,
      "outputs": []
    },
    {
      "cell_type": "markdown",
      "source": [
        "The main class attribute we are interested in is `cards` which is a tuple containing all 52 playing cards."
      ],
      "metadata": {
        "id": "UHuKVHrtqObB"
      }
    },
    {
      "cell_type": "code",
      "source": [
        "Deck.cards[:10]"
      ],
      "metadata": {
        "colab": {
          "base_uri": "https://localhost:8080/"
        },
        "id": "w2BvyCYYNbsz",
        "outputId": "ff37d735-882f-4dc5-c916-2eb965f60f81"
      },
      "execution_count": 2,
      "outputs": [
        {
          "output_type": "execute_result",
          "data": {
            "text/plain": [
              "('2D', '2H', '2C', '2S', '3D', '3H', '3C', '3S', '4D', '4H')"
            ]
          },
          "metadata": {},
          "execution_count": 2
        }
      ]
    },
    {
      "cell_type": "markdown",
      "source": [
        "## Add state to class\n",
        "\n",
        "For this deck to be functional it needs to hold some **state**, i.e. if someone draws some cards, which remain in the deck.\n",
        "\n",
        "Consequently we'll add the following functionality to our class:\n",
        "- Add a couple of instance variables `stock` and `drawn`; the first is a list of all playing cards currently in the deck, while the second is a list of all cards that have been drawn.\n",
        "- Rename class attributes from lowercase to upper and add an underscore in the beginning. It is a **convention** in python that **uppercase variables represent constants** (in our case the possible ranks/suits/colors/cards in a deck). Again, by convention, **variables starting with an underscore represent class internals that shouldn't be tampered with** by users of this class.\n",
        "- Add a method to shuffle the deck.\n",
        "- Add a method to draw `n` cards from the deck.\n",
        "- Add a method to *reset* the deck, i.e. reshuffle all 52 cards.\n",
        "- Add a **constuctor** to the class. The constructor is a special method named `__init__` that is called whenever a new instance is created. We usually use this method to **initialize** an object with it's initial state. In our case this means that we will initialize the `stock` attribute to conain all cards shuffled and `stock` as an empty list."
      ],
      "metadata": {
        "id": "0NzDpLpMPXWP"
      }
    },
    {
      "cell_type": "code",
      "source": [
        "import numpy as np\n",
        "\n",
        "\n",
        "class Deck:\n",
        "    _RANKS = tuple(range(2, 11)) + ('J', 'Q', 'K', 'A')\n",
        "    _SUITS = ('D', 'H', 'C', 'S')\n",
        "    _CARDS = tuple(str(v) + s for v in _RANKS for s in ('D', 'H', 'C', 'S'))\n",
        "    _COLORS = {'D': 'R', 'H': 'R', 'C': 'B', 'S': 'B'}\n",
        "\n",
        "    def __init__(self, num_packs=1):\n",
        "        self.stock = self.shuffle(self._CARDS * num_packs)\n",
        "        self.drawn = []\n",
        "\n",
        "    def draw(self, n=1):\n",
        "        cards = [self.stock.pop(0) for _ in range(n)]\n",
        "        self.drawn += cards\n",
        "        return cards\n",
        "\n",
        "    def reset(self):\n",
        "        self.stock = self.shuffle(self.stock + self.drawn)\n",
        "        self.drawn = []\n",
        "\n",
        "    def shuffle(self, cards):\n",
        "        return list(np.random.permutation(cards))"
      ],
      "metadata": {
        "id": "DwkZWpr5PXve"
      },
      "execution_count": 3,
      "outputs": []
    },
    {
      "cell_type": "markdown",
      "source": [
        "Let's test our class' basic functionality."
      ],
      "metadata": {
        "id": "VtW_px9Nt1tQ"
      }
    },
    {
      "cell_type": "code",
      "source": [
        "deck = Deck()\n",
        "\n",
        "print('Initial stock:', deck.stock[:10])\n",
        "print(f'{len(deck.stock) = }')\n",
        "\n",
        "drawn_cards = deck.draw(3)\n",
        "print('Drawn cards:', drawn_cards)\n",
        "\n",
        "print('Stock after drawing cards:', deck.stock[:10])\n",
        "print(f'{len(deck.stock) = }')"
      ],
      "metadata": {
        "colab": {
          "base_uri": "https://localhost:8080/"
        },
        "id": "MeQiCMJhP2yJ",
        "outputId": "f2da4bfe-9377-4ead-d6ad-0b0790feb88f"
      },
      "execution_count": 4,
      "outputs": [
        {
          "output_type": "stream",
          "name": "stdout",
          "text": [
            "Initial stock: ['9H', '2D', '9C', '6C', '5D', '6H', 'KD', '10S', 'AC', '10D']\n",
            "len(deck.stock) = 52\n",
            "Drawn cards: ['9H', '2D', '9C']\n",
            "Stock after drawing cards: ['6C', '5D', '6H', 'KD', '10S', 'AC', '10D', '5C', '8C', '7S']\n",
            "len(deck.stock) = 49\n"
          ]
        }
      ]
    },
    {
      "cell_type": "markdown",
      "source": [
        "## Use properties to obscure internal instance attributes\n",
        "\n",
        "Let's think abouth our class a bit more abstractly. The two attributes `state` and `drawn` that we created serve two purposes:\n",
        " - On one hand they are **internal variables** crucial for keeping track of the state of our object. They are used by the other methods of the object and are necessary for it to work properly.\n",
        " - On the other hand they can also be **accessed directly by the user** to see the current state (e.g. see what cards have been drawn).\n",
        "\n",
        "This is a bit problematic. To better understand this think of the following example."
      ],
      "metadata": {
        "id": "f29ti04HNoOJ"
      }
    },
    {
      "cell_type": "code",
      "source": [
        "# Initialize the deck\n",
        "deck = Deck()\n",
        "\n",
        "print(f'{len(deck.stock) = }')\n",
        "\n",
        "# Draw a card directly from the stock, without using the dedicated method\n",
        "drawn_card = deck.stock[0]\n",
        "deck.stock = deck.stock[1:]\n",
        "print('Drawn card:', drawn_card)\n",
        "\n",
        "# Reset the deck\n",
        "deck.reset()\n",
        "\n",
        "print('\\nStock after reset')\n",
        "print(f'{len(deck.stock) = }')"
      ],
      "metadata": {
        "colab": {
          "base_uri": "https://localhost:8080/"
        },
        "id": "6ap_wmKGv0x2",
        "outputId": "a7638d03-b018-4c81-a5da-8358f8dabf60"
      },
      "execution_count": 5,
      "outputs": [
        {
          "output_type": "stream",
          "name": "stdout",
          "text": [
            "len(deck.stock) = 52\n",
            "Drawn card: 3H\n",
            "\n",
            "Stock after reset\n",
            "len(deck.stock) = 51\n"
          ]
        }
      ]
    },
    {
      "cell_type": "markdown",
      "source": [
        "By drawing from the stock direcly instead of using the dedicated `draw()` method, we broke some internal logic of the class and now after resetting the deck we have only 51 cards available instead of 52.\n",
        "\n",
        "The issue here is that since `stock` and `draw` are sensitive to the object working properly they shouldn't also be accessed directly by the user. In python there is no way to enforce that the user can't access these (i.e. no such thing as a private or protected attribute). One way, which we discussed before would be to add an underscore before these attributes to indicate to the user that he shouldn't access these. This, however would require us to set up getter methods (e.g. `get_stock()`) so that the user has some way of viewing the state of the class.\n",
        "\n",
        "In python there is a better way: using **properties**. Α property is a special kind of attribute that is accessed like a normal attribute, but is implemented through getters and setters.\n",
        "\n",
        "*Note: properties are useful for a few purposes, we'll just use them, though, to obscure `stock` and `drawn`*"
      ],
      "metadata": {
        "id": "1XE6ycGBv1SX"
      }
    },
    {
      "cell_type": "code",
      "source": [
        "class Deck:\n",
        "    _RANKS = tuple(range(2, 11)) + ('J', 'Q', 'K', 'A')\n",
        "    _SUITS = ('D', 'H', 'C', 'S')\n",
        "    _CARDS = tuple(str(v) + s for v in _RANKS for s in ('D', 'H', 'C', 'S'))\n",
        "    _COLORS = {'D': 'R', 'H': 'R', 'C': 'B', 'S': 'B'}\n",
        "\n",
        "    def __init__(self, num_packs=1):\n",
        "        # Replace self.stock and self.drawn with self._stock and self._drawn\n",
        "        self._stock = self.shuffle(self._CARDS * num_packs)\n",
        "        self._drawn = []\n",
        "\n",
        "    def draw(self, n=1):\n",
        "        cards = [self._stock.pop(0) for _ in range(n)]\n",
        "        self._drawn += cards\n",
        "        return cards\n",
        "\n",
        "    def reset(self):\n",
        "        self._stock = self.shuffle(self._stock + self._drawn)\n",
        "        self._drawn = []\n",
        "\n",
        "    @property\n",
        "    def stock(self):\n",
        "        \"\"\"\n",
        "        This is the getter method of stock. Whenever we want to access the\n",
        "        attribute self.stock, this method will be called.\n",
        "        \"\"\"\n",
        "        return self._stock\n",
        "\n",
        "    @property\n",
        "    def drawn(self):\n",
        "        \"\"\"\n",
        "        This is the getter method of drawn.\n",
        "        \"\"\"\n",
        "        return self._drawn\n",
        "\n",
        "    @staticmethod\n",
        "    def shuffle(cards):\n",
        "      # We also changed shuffle to be a static method since it has no need of\n",
        "      # the object's current state to work\n",
        "      return list(np.random.permutation(cards))"
      ],
      "metadata": {
        "id": "ncW62qR2OdbL"
      },
      "execution_count": 6,
      "outputs": []
    },
    {
      "cell_type": "markdown",
      "source": [
        "By defining the internal variables as properties, they can be accessed as they were before."
      ],
      "metadata": {
        "id": "wblZ5tLeXOfE"
      }
    },
    {
      "cell_type": "code",
      "source": [
        "deck = Deck()\n",
        "\n",
        "print('Initial stock:', deck.stock[:10])\n",
        "print(f'{len(deck.stock) = }')\n",
        "\n",
        "drawn_cards = deck.draw(3)\n",
        "print('Drawn cards:', drawn_cards)\n",
        "\n",
        "print('Stock after drawing cards:', deck.stock[:10])\n",
        "print(f'{len(deck.stock) = }')"
      ],
      "metadata": {
        "colab": {
          "base_uri": "https://localhost:8080/"
        },
        "id": "69KPpq2sPAfz",
        "outputId": "2e9490b6-b640-4989-ce90-08c190cb5f96"
      },
      "execution_count": 7,
      "outputs": [
        {
          "output_type": "stream",
          "name": "stdout",
          "text": [
            "Initial stock: ['8C', '4H', 'AC', 'QS', '7S', '7C', 'KC', 'JC', '2C', '5S']\n",
            "len(deck.stock) = 52\n",
            "Drawn cards: ['8C', '4H', 'AC']\n",
            "Stock after drawing cards: ['QS', '7S', '7C', 'KC', 'JC', '2C', '5S', '8S', '6C', '8H']\n",
            "len(deck.stock) = 49\n"
          ]
        }
      ]
    },
    {
      "cell_type": "markdown",
      "source": [
        "But if we try to modify this property it won't work, because we haven't defined the setter for this method."
      ],
      "metadata": {
        "id": "p_qeNuvUX6d7"
      }
    },
    {
      "cell_type": "code",
      "source": [
        "# Uncomment to see the error\n",
        "\n",
        "# deck.stock = deck.stock[1:]"
      ],
      "metadata": {
        "id": "yhzqBTcDXcj7",
        "colab": {
          "base_uri": "https://localhost:8080/",
          "height": 212
        },
        "outputId": "39d718f7-5705-4548-f40a-22bd78918e92"
      },
      "execution_count": 8,
      "outputs": [
        {
          "output_type": "error",
          "ename": "AttributeError",
          "evalue": "can't set attribute 'stock'",
          "traceback": [
            "\u001b[0;31m---------------------------------------------------------------------------\u001b[0m",
            "\u001b[0;31mAttributeError\u001b[0m                            Traceback (most recent call last)",
            "\u001b[0;32m<ipython-input-8-de0a7af3f2a3>\u001b[0m in \u001b[0;36m<cell line: 3>\u001b[0;34m()\u001b[0m\n\u001b[1;32m      1\u001b[0m \u001b[0;31m# Uncomment to see the error\u001b[0m\u001b[0;34m\u001b[0m\u001b[0;34m\u001b[0m\u001b[0m\n\u001b[1;32m      2\u001b[0m \u001b[0;34m\u001b[0m\u001b[0m\n\u001b[0;32m----> 3\u001b[0;31m \u001b[0mdeck\u001b[0m\u001b[0;34m.\u001b[0m\u001b[0mstock\u001b[0m \u001b[0;34m=\u001b[0m \u001b[0mdeck\u001b[0m\u001b[0;34m.\u001b[0m\u001b[0mstock\u001b[0m\u001b[0;34m[\u001b[0m\u001b[0;36m1\u001b[0m\u001b[0;34m:\u001b[0m\u001b[0;34m]\u001b[0m\u001b[0;34m\u001b[0m\u001b[0;34m\u001b[0m\u001b[0m\n\u001b[0m",
            "\u001b[0;31mAttributeError\u001b[0m: can't set attribute 'stock'"
          ]
        }
      ]
    },
    {
      "cell_type": "markdown",
      "source": [
        "## Add more interoperability with built-in operators and functions\n",
        "\n",
        "Let's take a moment to think a bit about the `__init__` method that we defined previously. This is a special kind of method called a **dunder** (i.e. *double underscore*) method. It isn't the only one of its kind; by implementing dunder methods we **modify how the object behaves in certain situations**.\n",
        "\n",
        "### Make objects work with `len`\n",
        "\n",
        "Let's see an example. By convention in python, the `len` method works in all container objects and returns a notion of their size."
      ],
      "metadata": {
        "id": "DoXwJF5iX5rL"
      }
    },
    {
      "cell_type": "code",
      "source": [
        "alist = [1, 2, 3, 4]\n",
        "atuple = ('a', 'b', 'c')\n",
        "adict = {'k1': 'v1', 'k2': 'v2'}\n",
        "\n",
        "print(f'{len(alist) = }')\n",
        "print(f'{len(atuple) = }')\n",
        "print(f'{len(adict) = }')"
      ],
      "metadata": {
        "colab": {
          "base_uri": "https://localhost:8080/"
        },
        "id": "Ylnl_1UZan11",
        "outputId": "ae9b1407-0be6-4055-f7f0-a15521dcf8df"
      },
      "execution_count": 9,
      "outputs": [
        {
          "output_type": "stream",
          "name": "stdout",
          "text": [
            "len(alist) = 4\n",
            "len(atuple) = 3\n",
            "len(adict) = 2\n"
          ]
        }
      ]
    },
    {
      "cell_type": "markdown",
      "source": [
        "But the `len` method does not only work for built-in objects. Not only that, each object defines this method in its own way."
      ],
      "metadata": {
        "id": "jrbtml7Kdqj1"
      }
    },
    {
      "cell_type": "code",
      "source": [
        "import numpy as np\n",
        "import pandas as pd\n",
        "\n",
        "arr = np.arange(24).reshape(4, 2, 3)\n",
        "ser = pd.Series([1, 2, 3])\n",
        "df = pd.DataFrame({'a': [1, 2], 'b': [3, 4]})\n",
        "\n",
        "print(f'{len(arr) = }')  # will return the size of the first axis\n",
        "print(f'{len(ser) = }')  # will return the size\n",
        "print(f'{len(df) = }')   # will return the number of rows"
      ],
      "metadata": {
        "colab": {
          "base_uri": "https://localhost:8080/"
        },
        "id": "PZ5ZD7ZrZ-mb",
        "outputId": "61b0989c-ae78-4879-99f8-c9c093a0366f"
      },
      "execution_count": 10,
      "outputs": [
        {
          "output_type": "stream",
          "name": "stdout",
          "text": [
            "len(arr) = 4\n",
            "len(ser) = 3\n",
            "len(df) = 2\n"
          ]
        }
      ]
    },
    {
      "cell_type": "markdown",
      "source": [
        "It seems appropriate that we should make the `len` method work for our objects as well. To do this we need to implement the special `__len__` dunder method."
      ],
      "metadata": {
        "id": "O2gkXiT6d9py"
      }
    },
    {
      "cell_type": "code",
      "source": [
        "class Deck:\n",
        "    _RANKS = tuple(range(2, 11)) + ('J', 'Q', 'K', 'A')\n",
        "    _SUITS = ('D', 'H', 'C', 'S')\n",
        "    _CARDS = tuple(str(v) + s for v in _RANKS for s in ('D', 'H', 'C', 'S'))\n",
        "    _COLORS = {'D': 'R', 'H': 'R', 'C': 'B', 'S': 'B'}\n",
        "\n",
        "    def __init__(self, num_packs=1):\n",
        "        self._stock = self.shuffle(self._CARDS * num_packs)\n",
        "        self._drawn = []\n",
        "\n",
        "    def draw(self, n=1):\n",
        "        cards = [self._stock.pop(0) for _ in range(n)]\n",
        "        self._drawn += cards\n",
        "        return cards\n",
        "\n",
        "    def reset(self):\n",
        "        self._stock = self.shuffle(self._stock + self._drawn)\n",
        "        self._drawn = []\n",
        "\n",
        "    def __len__(self):\n",
        "        \"\"\"\n",
        "        Define the len as the size of the stock\n",
        "        \"\"\"\n",
        "        return len(self.stock)\n",
        "\n",
        "    @property\n",
        "    def stock(self):\n",
        "        return self._stock\n",
        "\n",
        "    @property\n",
        "    def drawn(self):\n",
        "        return self._drawn\n",
        "\n",
        "    @staticmethod\n",
        "    def shuffle(cards):\n",
        "      return list(np.random.permutation(cards))"
      ],
      "metadata": {
        "id": "iCnYCJNKNnbb"
      },
      "execution_count": 11,
      "outputs": []
    },
    {
      "cell_type": "code",
      "source": [
        "deck = Deck()\n",
        "\n",
        "print(f'{len(deck) = }')\n",
        "\n",
        "deck.draw(5)\n",
        "\n",
        "print(f'{len(deck) = }')\n"
      ],
      "metadata": {
        "colab": {
          "base_uri": "https://localhost:8080/"
        },
        "id": "la8kLgavOInj",
        "outputId": "792c96fc-226a-4edb-ab61-1665189cc394"
      },
      "execution_count": 12,
      "outputs": [
        {
          "output_type": "stream",
          "name": "stdout",
          "text": [
            "len(deck) = 52\n",
            "len(deck) = 47\n"
          ]
        }
      ]
    },
    {
      "cell_type": "markdown",
      "source": [
        "### Add object's string representation\n",
        "\n",
        "Most objects have a string representation (actually two to be precise).\n"
      ],
      "metadata": {
        "id": "6cARo6UJOMeb"
      }
    },
    {
      "cell_type": "code",
      "source": [
        "arr  # repr"
      ],
      "metadata": {
        "colab": {
          "base_uri": "https://localhost:8080/"
        },
        "id": "k-SdJ3lBe64W",
        "outputId": "7a0f5b22-f400-4887-bbed-ab19cfe157df"
      },
      "execution_count": 13,
      "outputs": [
        {
          "output_type": "execute_result",
          "data": {
            "text/plain": [
              "array([[[ 0,  1,  2],\n",
              "        [ 3,  4,  5]],\n",
              "\n",
              "       [[ 6,  7,  8],\n",
              "        [ 9, 10, 11]],\n",
              "\n",
              "       [[12, 13, 14],\n",
              "        [15, 16, 17]],\n",
              "\n",
              "       [[18, 19, 20],\n",
              "        [21, 22, 23]]])"
            ]
          },
          "metadata": {},
          "execution_count": 13
        }
      ]
    },
    {
      "cell_type": "code",
      "source": [
        "print(arr)  # str"
      ],
      "metadata": {
        "colab": {
          "base_uri": "https://localhost:8080/"
        },
        "id": "w7nsdoSMe7XU",
        "outputId": "7c1a2daf-82a1-4c62-a228-cbe6e9ad1e67"
      },
      "execution_count": 14,
      "outputs": [
        {
          "output_type": "stream",
          "name": "stdout",
          "text": [
            "[[[ 0  1  2]\n",
            "  [ 3  4  5]]\n",
            "\n",
            " [[ 6  7  8]\n",
            "  [ 9 10 11]]\n",
            "\n",
            " [[12 13 14]\n",
            "  [15 16 17]]\n",
            "\n",
            " [[18 19 20]\n",
            "  [21 22 23]]]\n"
          ]
        }
      ]
    },
    {
      "cell_type": "markdown",
      "source": [
        "These can be controlled by the following two dunder methods `__repr__` and `__str__`. Since the latter will default to the first if not defined, we'll only implement `__repr__`.\n",
        "\n",
        "*Note: By convention this should include information that, when passed to the `eval()` function, would recreate an object with the same state. We won't follow the convention to avoid reimplementing the core functionality of our class..*"
      ],
      "metadata": {
        "id": "OzkZctXJftam"
      }
    },
    {
      "cell_type": "code",
      "source": [
        "class Deck:\n",
        "    _RANKS = tuple(range(2, 11)) + ('J', 'Q', 'K', 'A')\n",
        "    _SUITS = ('D', 'H', 'C', 'S')\n",
        "    _CARDS = tuple(str(v) + s for v in _RANKS for s in ('D', 'H', 'C', 'S'))\n",
        "    _COLORS = {'D': 'R', 'H': 'R', 'C': 'B', 'S': 'B'}\n",
        "\n",
        "    def __init__(self, num_packs=1):\n",
        "        self._stock = self.shuffle(self._CARDS * num_packs)\n",
        "        self._drawn = []\n",
        "\n",
        "    def draw(self, n=1):\n",
        "        cards = [self._stock.pop(0) for _ in range(n)]\n",
        "        self._drawn += cards\n",
        "        return cards\n",
        "\n",
        "    def reset(self):\n",
        "        self._stock = self.shuffle(self._stock + self._drawn)\n",
        "        self._drawn = []\n",
        "\n",
        "    def __len__(self):\n",
        "        return len(self.stock)\n",
        "\n",
        "    def __repr__(self):\n",
        "        # simply return the string we want to be printed\n",
        "        return f'Deck({len(self)})'\n",
        "\n",
        "    @property\n",
        "    def stock(self):\n",
        "        return self._stock\n",
        "\n",
        "    @property\n",
        "    def drawn(self):\n",
        "        return self._drawn\n",
        "\n",
        "    @staticmethod\n",
        "    def shuffle(cards):\n",
        "      return list(np.random.permutation(cards))"
      ],
      "metadata": {
        "id": "AspC-4LAOM6a"
      },
      "execution_count": 15,
      "outputs": []
    },
    {
      "cell_type": "code",
      "source": [
        "deck = Deck()\n",
        "\n",
        "print(deck)  # str (will fallback to repr since it's not defined)\n",
        "\n",
        "deck.draw(8)\n",
        "\n",
        "deck  # repr"
      ],
      "metadata": {
        "colab": {
          "base_uri": "https://localhost:8080/"
        },
        "id": "EnJBwYauONIM",
        "outputId": "537d113b-c480-47fd-af5c-1c2598978dff"
      },
      "execution_count": 16,
      "outputs": [
        {
          "output_type": "stream",
          "name": "stdout",
          "text": [
            "Deck(52)\n"
          ]
        },
        {
          "output_type": "execute_result",
          "data": {
            "text/plain": [
              "Deck(44)"
            ]
          },
          "metadata": {},
          "execution_count": 16
        }
      ]
    },
    {
      "cell_type": "markdown",
      "source": [
        "### Accessing elements\n",
        "\n",
        "Most container objects have some way for us to access their elements. The convention is that we will do this by using the square brackets operator.\n",
        "\n",
        "The method of accessing the elements might change from object to object."
      ],
      "metadata": {
        "id": "FLRACveBiY1w"
      }
    },
    {
      "cell_type": "code",
      "source": [
        "print(f'{alist[0] = }')      # by index\n",
        "print(f'{alist[-1] = }')     # by negative index\n",
        "print(f'{alist[1:3] = }')    # by slice\n",
        "\n",
        "print(f'{adict[\"k2\"] = }')   # by key\n",
        "\n",
        "print(f'{arr[0, :, 1] = }')  # by index in multiple dims\n",
        "\n",
        "mask = [False, True, True]\n",
        "print(f'{ser[mask] = }')     # by binary mask\n",
        "\n",
        "print(f'{ser[[0, 2]] = }')   # by multiple indexes\n"
      ],
      "metadata": {
        "colab": {
          "base_uri": "https://localhost:8080/"
        },
        "id": "ZrcaZVE1izWR",
        "outputId": "cbd4403f-43ca-4e53-fd33-373be71d0add"
      },
      "execution_count": 17,
      "outputs": [
        {
          "output_type": "stream",
          "name": "stdout",
          "text": [
            "alist[0] = 1\n",
            "alist[-1] = 4\n",
            "alist[1:3] = [2, 3]\n",
            "adict[\"k2\"] = 'v2'\n",
            "arr[0, :, 1] = array([1, 4])\n",
            "ser[mask] = 1    2\n",
            "2    3\n",
            "dtype: int64\n",
            "ser[[0, 2]] = 0    1\n",
            "2    3\n",
            "dtype: int64\n"
          ]
        }
      ]
    },
    {
      "cell_type": "markdown",
      "source": [
        "All of this behavior can be defined in the `__getitem__` method.  "
      ],
      "metadata": {
        "id": "wkwNtzeYkOIj"
      }
    },
    {
      "cell_type": "code",
      "source": [
        "class Deck:\n",
        "    _RANKS = tuple(range(2, 11)) + ('J', 'Q', 'K', 'A')\n",
        "    _SUITS = ('D', 'H', 'C', 'S')\n",
        "    _CARDS = tuple(str(v) + s for v in _RANKS for s in ('D', 'H', 'C', 'S'))\n",
        "    _COLORS = {'D': 'R', 'H': 'R', 'C': 'B', 'S': 'B'}\n",
        "\n",
        "    def __init__(self, num_packs=1):\n",
        "        self._stock = self.shuffle(self._CARDS * num_packs)\n",
        "        self._drawn = []\n",
        "\n",
        "    def draw(self, n=1):\n",
        "        cards = [self._stock.pop(0) for _ in range(n)]\n",
        "        self._drawn += cards\n",
        "        return cards\n",
        "\n",
        "    def reset(self):\n",
        "        self._stock = self.shuffle(self._stock + self._drawn)\n",
        "        self._drawn = []\n",
        "\n",
        "    def __getitem__(self, index):\n",
        "        \"\"\"\n",
        "        Get the item(s) with the respective index (or slice) from the stock\n",
        "        \"\"\"\n",
        "        return self.stock[index]\n",
        "\n",
        "    def __len__(self):\n",
        "        return len(self.stock)\n",
        "\n",
        "    def __repr__(self):\n",
        "        return f'Deck({len(self)})'\n",
        "\n",
        "    @property\n",
        "    def stock(self):\n",
        "        return self._stock\n",
        "\n",
        "    @property\n",
        "    def drawn(self):\n",
        "        return self._drawn\n",
        "\n",
        "    @staticmethod\n",
        "    def shuffle(cards):\n",
        "      return list(np.random.permutation(cards))"
      ],
      "metadata": {
        "id": "Z5VlCxCPTkX4"
      },
      "execution_count": 18,
      "outputs": []
    },
    {
      "cell_type": "code",
      "source": [
        "deck = Deck()\n",
        "\n",
        "# See first and last 10 elements\n",
        "print(f'{deck.stock[:10] = }')\n",
        "print(f'{deck.stock[-10:] = }')\n",
        "\n",
        "print(f'{deck[2] = }')      # index\n",
        "print(f'{deck[-5] = }')     # negative index\n",
        "\n",
        "print(f'{deck[:5] = }')     # slice"
      ],
      "metadata": {
        "colab": {
          "base_uri": "https://localhost:8080/"
        },
        "id": "8WRFFMwZTrzf",
        "outputId": "3875e841-96f9-4b4f-c50f-c07096cd1cbd"
      },
      "execution_count": 19,
      "outputs": [
        {
          "output_type": "stream",
          "name": "stdout",
          "text": [
            "deck.stock[:10] = ['QS', 'KH', '7C', 'AS', '8H', 'QC', '3S', 'KC', 'AC', '3D']\n",
            "deck.stock[-10:] = ['7H', '10D', '5H', '9C', 'KD', '4S', 'JS', '6C', 'QH', '8D']\n",
            "deck[2] = '7C'\n",
            "deck[-5] = '4S'\n",
            "deck[:5] = ['QS', 'KH', '7C', 'AS', '8H']\n"
          ]
        }
      ]
    },
    {
      "cell_type": "markdown",
      "source": [
        "### Make the object iterable\n",
        "\n",
        "Depending on what we want exactly we might need to do a few different things here. If we want to make our object a proper **iterator**, we need to follow the **iterator protocol** and define the `__next__` and `__iter__` methods. Arguably this would be the best way to proceed because it would allow our objects to do more stuff.\n",
        "\n",
        "However, to showcase the simplicity of the matter, we'll stick with our object being an **iterable**, which in most cases suffices. An iterable is an object whose elements we can iterate over (i.e. through a `for` loop). How do we do this? We need to follow the **iterable protocol** and either implement the `__iter__` or the `__getitem__` method. Wait! The latter is already implemented! So we can simply iterate over our object without doing anything more? Let's see..."
      ],
      "metadata": {
        "id": "Qz4x308_lPCD"
      }
    },
    {
      "cell_type": "code",
      "source": [
        "for card in deck:\n",
        "    print(card)"
      ],
      "metadata": {
        "colab": {
          "base_uri": "https://localhost:8080/"
        },
        "id": "sexPCcaElOgA",
        "outputId": "f949942a-1414-423d-b542-be24ecb16a43"
      },
      "execution_count": 20,
      "outputs": [
        {
          "output_type": "stream",
          "name": "stdout",
          "text": [
            "QS\n",
            "KH\n",
            "7C\n",
            "AS\n",
            "8H\n",
            "QC\n",
            "3S\n",
            "KC\n",
            "AC\n",
            "3D\n",
            "10C\n",
            "QD\n",
            "KS\n",
            "2H\n",
            "4D\n",
            "5S\n",
            "6D\n",
            "10H\n",
            "7S\n",
            "2S\n",
            "8S\n",
            "6S\n",
            "5D\n",
            "9S\n",
            "JD\n",
            "2C\n",
            "3C\n",
            "4C\n",
            "3H\n",
            "9D\n",
            "9H\n",
            "10S\n",
            "8C\n",
            "5C\n",
            "JC\n",
            "4H\n",
            "AD\n",
            "JH\n",
            "AH\n",
            "7D\n",
            "2D\n",
            "6H\n",
            "7H\n",
            "10D\n",
            "5H\n",
            "9C\n",
            "KD\n",
            "4S\n",
            "JS\n",
            "6C\n",
            "QH\n",
            "8D\n"
          ]
        }
      ]
    },
    {
      "cell_type": "markdown",
      "source": [
        "### Missing sequence functionality\n",
        "\n",
        "Our class is starting to become very functional. In fact it can be used anythere that a sequence is expected (just by implementing the `__len__` and `__getitem__` methods). Thus we can say that our class **follows the sequence protocol**.\n",
        "\n",
        "We'll go one step further and add a few more methods to make it even closer to most python sequences.\n",
        "\n",
        "These methods are:\n",
        "\n",
        "- `__contains__`: need this to support membership checks (e.g. `'5D' in deck`).\n",
        "- `__eq__`: need this to support equality checks (e.g. `deck1 == deck2`).\n",
        "- remaining comparisons `__ne__` (`!=` opertor), `__lt__` (`<` operator), `__le__` (`<=` operator), `__gt__` (`>` operator), `__ge__` (`>=` operator).\n",
        "- `count()`: count how many of one element are in the sequence.\n",
        "- `index()`: return the index of an element.\n",
        "- `__iter__`: return an interator of the sequence.\n",
        "- `__reversed__`: return a reversed iterator of the sequence.\n",
        "- `__bool__`: return the boolean evaluation of the sequence (not really necessary, but still nice to have). The general convension is that if the sequence is empty return `False`, in other cases return `True`.\n",
        "\n",
        "*Note: Some of these are more important than others. We don't need to implement all of these every time.*"
      ],
      "metadata": {
        "id": "1dxoDnPaonIP"
      }
    },
    {
      "cell_type": "code",
      "execution_count": 21,
      "metadata": {
        "id": "0azSZHN9mVna"
      },
      "outputs": [],
      "source": [
        "class Deck:\n",
        "\n",
        "    _RANKS = tuple(range(2, 11)) + ('J', 'Q', 'K', 'A')\n",
        "    _SUITS = ('D', 'H', 'C', 'S')\n",
        "    _CARDS = tuple(str(v) + s for v in _RANKS for s in ('D', 'H', 'C', 'S'))\n",
        "    _COLORS = {'D': 'R', 'H': 'R', 'C': 'B', 'S': 'B'}\n",
        "\n",
        "    def __init__(self, num_packs=1):\n",
        "        self._stock = self.shuffle(self._CARDS * num_packs)\n",
        "        self._drawn = []\n",
        "\n",
        "    def draw(self, n):\n",
        "        cards = [self._stock.pop(0) for _ in range(n)]\n",
        "        self._drawn += cards\n",
        "        return cards\n",
        "\n",
        "    def reset(self):\n",
        "        self._stock = self.shuffle(self._stock + self._drawn)\n",
        "        self._drawn = []\n",
        "\n",
        "    def count(self, card):\n",
        "        return self.stock.count(card)\n",
        "\n",
        "    def index(self, card):\n",
        "        return self.stock.index(card)\n",
        "\n",
        "    def __getitem__(self, index):\n",
        "        return self.stock[index]\n",
        "\n",
        "    def __repr__(self):\n",
        "        return f'Deck({len(self)})'\n",
        "\n",
        "    def __len__(self):\n",
        "        return len(self.stock)\n",
        "\n",
        "    def __contains__(self, card):\n",
        "        return card in self.stock\n",
        "\n",
        "    def __eq__(self, other_deck):\n",
        "        return len(self) == len(other_deck) and all([c1 == c2 for c1, c2\n",
        "                                                 in zip(self, other_deck)])\n",
        "\n",
        "    def __ne__(self, other_deck):\n",
        "        return not (self == other_deck)\n",
        "\n",
        "    def __gt__(self, other_deck):\n",
        "        return len(self) > len(other_deck)\n",
        "\n",
        "    def __lt__(self, other_deck):\n",
        "        return len(self) < len(other_deck)\n",
        "\n",
        "    def __ge__(self, other_deck):\n",
        "        return len(self) >= len(other_deck)\n",
        "\n",
        "    def __le__(self, other_deck):\n",
        "        return len(self) <= len(other_deck)\n",
        "\n",
        "    def __iter__(self):\n",
        "        return iter(self.stock)\n",
        "\n",
        "    def __reversed__(self):\n",
        "        return reversed(self.stock)\n",
        "\n",
        "    def __bool__(self):\n",
        "        return bool(self.stock)\n",
        "\n",
        "    @property\n",
        "    def stock(self):\n",
        "        return self._stock\n",
        "\n",
        "    @property\n",
        "    def drawn(self):\n",
        "        return self._drawn\n",
        "\n",
        "    @staticmethod\n",
        "    def shuffle(cards):\n",
        "      return list(np.random.permutation(cards))"
      ]
    },
    {
      "cell_type": "code",
      "source": [
        "deck1 = Deck(num_packs=3)\n",
        "deck2 = Deck(num_packs=2)\n",
        "\n",
        "# repr and len\n",
        "print(f'{deck1 = }')\n",
        "print(f'{deck2 = }')\n",
        "\n",
        "# comparisons\n",
        "print(f'{deck1 == deck2 = }')\n",
        "print(f'{deck1 != deck2 = }')\n",
        "print(f'{deck1 > deck2  = }')\n",
        "print(f'{deck1 < deck2  = }')\n",
        "print(f'{deck1 >= deck2 = }')\n",
        "print(f'{deck1 <= deck2 = }')\n",
        "\n",
        "# membership\n",
        "print(f'{\"5C\" in deck1 = }')\n",
        "print(f'{\"12C\" in deck1 = }')\n",
        "\n",
        "# count\n",
        "print(f'{deck1.count(\"5C\") = }')\n",
        "\n",
        "# index method and accessing elements\n",
        "print(f'{deck1[deck1.index(\"5C\")] == \"5C\" = }')\n",
        "\n",
        "# iterable and slicing\n",
        "first_5 = [card for card in deck1[:5]]\n",
        "draw_5 = deck1.draw(5)\n",
        "assert first_5 == draw_5"
      ],
      "metadata": {
        "colab": {
          "base_uri": "https://localhost:8080/"
        },
        "id": "XsPYyYK-tqa-",
        "outputId": "b7616800-b4cd-4ba9-f817-0d9be472dd4c"
      },
      "execution_count": 22,
      "outputs": [
        {
          "output_type": "stream",
          "name": "stdout",
          "text": [
            "deck1 = Deck(156)\n",
            "deck2 = Deck(104)\n",
            "deck1 == deck2 = False\n",
            "deck1 != deck2 = True\n",
            "deck1 > deck2  = True\n",
            "deck1 < deck2  = False\n",
            "deck1 >= deck2 = True\n",
            "deck1 <= deck2 = False\n",
            "\"5C\" in deck1 = True\n",
            "\"12C\" in deck1 = False\n",
            "deck1.count(\"5C\") = 3\n",
            "deck1[deck1.index(\"5C\")] == \"5C\" = True\n"
          ]
        }
      ]
    },
    {
      "cell_type": "markdown",
      "source": [
        "### Implement conversion from and to binary\n",
        "\n",
        "Another thing we can look at (though arguably not that useful) is to add a way to produce a binary representation of our object and subsequently to be able to instantite an object from its binary representation. This is interesting because it falls under the concept of **serialization**, i.e. to produce a representation of our object that can be shared and or stored.\n",
        "\n",
        "We'll actually implement two seralization methods:\n",
        "1. encode our object as a string\n",
        "2. encode our object as bytes"
      ],
      "metadata": {
        "id": "dyXk1hYE0I7a"
      }
    },
    {
      "cell_type": "code",
      "source": [
        "class Deck:\n",
        "\n",
        "    _RANKS = tuple(range(2, 11)) + ('J', 'Q', 'K', 'A')\n",
        "    _SUITS = ('D', 'H', 'C', 'S')\n",
        "    _CARDS = tuple(str(v) + s for v in _RANKS for s in ('D', 'H', 'C', 'S'))\n",
        "    _COLORS = {'D': 'R', 'H': 'R', 'C': 'B', 'S': 'B'}\n",
        "\n",
        "    def __init__(self, num_packs=1):\n",
        "        self._stock = self.shuffle(self._CARDS * num_packs)\n",
        "        self._drawn = []\n",
        "\n",
        "    def draw(self, n):\n",
        "        cards = [self._stock.pop(0) for _ in range(n)]\n",
        "        self._drawn += cards\n",
        "        return cards\n",
        "\n",
        "    def reset(self):\n",
        "        self._stock = self.shuffle(self._stock + self._drawn)\n",
        "        self._drawn = []\n",
        "\n",
        "    def count(self, card):\n",
        "        return self.stock.count(card)\n",
        "\n",
        "    def index(self, card):\n",
        "        return self.stock.index(card)\n",
        "\n",
        "    def tocardstr(self):\n",
        "        \"\"\"\n",
        "        Encode the deck's state as a string.\n",
        "\n",
        "        The string consists of two components (one for the stock and one for\n",
        "        the drawn), which are delimited by '|'. Each component includes all cards\n",
        "        in its respective list delimited by ','\n",
        "\n",
        "        e.g.\n",
        "        '2S,2C,2D,2H,3S,3C,...,JS|JC,JD,...,AH'\n",
        "        |<------- stock -------->|<---drawn--->|\n",
        "        \"\"\"\n",
        "\n",
        "        return ','.join(deck.stock) + '|' + ','.join(deck.drawn)\n",
        "\n",
        "    def __getitem__(self, index):\n",
        "        return self.stock[index]\n",
        "\n",
        "    def __repr__(self):\n",
        "        return f'Deck({len(self)})'\n",
        "\n",
        "    def __len__(self):\n",
        "        return len(self.stock)\n",
        "\n",
        "    def __contains__(self, card):\n",
        "        return card in self.stock\n",
        "\n",
        "    def __eq__(self, other_deck):\n",
        "        return len(self) == len(other_deck) and all([c1 == c2 for c1, c2\n",
        "                                                 in zip(self, other_deck)])\n",
        "\n",
        "    def __ne__(self, other_deck):\n",
        "        return not (self == other_deck)\n",
        "\n",
        "    def __gt__(self, other_deck):\n",
        "        return len(self) > len(other_deck)\n",
        "\n",
        "    def __lt__(self, other_deck):\n",
        "        return len(self) < len(other_deck)\n",
        "\n",
        "    def __ge__(self, other_deck):\n",
        "        return len(self) >= len(other_deck)\n",
        "\n",
        "    def __le__(self, other_deck):\n",
        "        return len(self) <= len(other_deck)\n",
        "\n",
        "    def __iter__(self):\n",
        "        return iter(self.stock)\n",
        "\n",
        "    def __reversed__(self):\n",
        "        return reversed(self.stock)\n",
        "\n",
        "    def __bytes__(self):\n",
        "        \"\"\"\n",
        "        Produce a binary representation of the object.\n",
        "        \"\"\"\n",
        "        return self.tocardstr().encode('utf-8')\n",
        "\n",
        "    @classmethod\n",
        "    def frombytes(cls, bytestr):\n",
        "      \"\"\"\n",
        "      Instantiate an object from its binary representation\n",
        "      \"\"\"\n",
        "      return cls.fromcardstr(bytestr.decode('utf-8'))\n",
        "\n",
        "\n",
        "    @classmethod\n",
        "    def fromcardstr(cls, cardstr):\n",
        "        \"\"\"\n",
        "        Instantiate a new deck object from a cardstr\n",
        "        \"\"\"\n",
        "\n",
        "        # isolate stock and drawn components of cardstr\n",
        "        stockstr, drawnstr = cardstr.split('|')\n",
        "\n",
        "        # instantiate new deck object\n",
        "        deck = cls()\n",
        "\n",
        "        # change state of new object to match cardstr\n",
        "        deck._stock = stockstr.split(',') if stockstr else []\n",
        "        deck._drawn = drawnstr.split(',') if drawnstr else []\n",
        "\n",
        "        return deck\n",
        "\n",
        "    @property\n",
        "    def stock(self):\n",
        "        return self._stock\n",
        "\n",
        "    @property\n",
        "    def drawn(self):\n",
        "        return self._drawn\n",
        "\n",
        "    @staticmethod\n",
        "    def shuffle(cards):\n",
        "      return list(np.random.permutation(cards))"
      ],
      "metadata": {
        "id": "Pv2xxOZ60Iwt"
      },
      "execution_count": 23,
      "outputs": []
    },
    {
      "cell_type": "code",
      "source": [
        "# create a new deck object\n",
        "deck = Deck()\n",
        "deck.draw(10)\n",
        "\n",
        "# get its binary representation\n",
        "bytestr = bytes(deck)\n",
        "\n",
        "print(f'{bytestr = }')\n",
        "\n",
        "# instantiate a new deck object from the previous\n",
        "deck2 = Deck.frombytes(bytestr)\n",
        "\n",
        "# make sure that these two are equivalent\n",
        "assert deck == deck2"
      ],
      "metadata": {
        "colab": {
          "base_uri": "https://localhost:8080/"
        },
        "id": "zBDZYj32zAK8",
        "outputId": "af31d3b0-2e15-4d97-de4b-0206756a571b"
      },
      "execution_count": 24,
      "outputs": [
        {
          "output_type": "stream",
          "name": "stdout",
          "text": [
            "bytestr = b'4C,6D,KC,KH,10H,KD,QH,7H,4H,AD,8C,9S,9D,10D,4D,6C,4S,6S,5C,QS,2D,5D,3D,3H,8D,5S,AC,3C,2H,10S,7S,QC,AH,QD,2S,JH,7C,8S,7D,JC,5H,KS|6H,2C,9C,9H,AS,3S,10C,8H,JS,JD'\n"
          ]
        }
      ]
    },
    {
      "cell_type": "markdown",
      "source": [
        "## Discussion\n",
        "\n",
        "### Other dunder methods\n",
        "\n",
        "This tutorial wasn't meant as a full description of python's data model and the class dunder methods; instead the goal was to show the idea of making our objects more interoperable via implementing these methods.\n",
        "\n",
        "As you can imagine there are several other dunder methods:\n",
        "- some that make our objects work with the built in numeric opeations: `__add__` for `+`, `__sub__` for `-`, etc.\n",
        "- for string formatting, i.e. `__str__` and `__format__`.\n",
        "- for defining context managers, i.e. `__enter__` and `__exit__`.\n",
        "- for controlling instance creatinion and deletion, i.e. `__new__` and `__del__`.\n",
        "- for controlling attribute access: `__getattr__`, `__getattribute__`, etc.\n",
        "- for defining descriotors: `__get__`, `__set__`, `__del__`.\n",
        "- and many many more.\n",
        "\n",
        "For a full list of python dunder methods you can read [the official documetation](https://docs.python.org/3/reference/datamodel.html#special-method-names).\n",
        "\n",
        "### Dataclasses\n",
        "\n",
        "The goal of this tutorial was to get a glimpse of the python data model and how custom classes can be made to use the language's operators and functions.\n",
        "\n",
        "In some cases, we can use dataclasses to make our life a lot easier. These are special classes that essentially autogenerate the code necessary for the `__init__`, `__repr__`,  `__eq__`, `__ne__`, `__lt__`, `__le__`, `__gt__`, and `__ge__` methods. These are best used for simple classes whose primary function is to store data.\n",
        "\n",
        "### Protocols and Duck Typing\n",
        "\n",
        "Throughout this tutorial we've seen several cases the word **protocol** appear. But what exactly is a protocol? In the context of object-oriented programming, a protocol is an **informal interface**, defined only in documentation and not in code.\n",
        "\n",
        "What does this mean in practice? In the `Deck` example, we mentioned that by implementing the `__len__` and `__getitem__` methods our class follows the sequence protocol and thus can be used anywhere a sequence is expected in python.\n",
        "\n",
        "The general principle behind this is called **duck typing**. Duck typing is a programming concept that focuses on the **behavior** of an object rather than its **type**. The idea behind duck typing is inspired by the saying,\n",
        "\n",
        "> If it looks like a duck, swims like a duck, and quacks like a duck, then it probably is a duck.\n",
        "\n",
        "In other words, if an object behaves like a certain type, it is treated as an instance of that type, regardless of its actual class or type declaration. Thus in python, to make our objects interoperable with the language's built-ins, we don't need to subclass from some special type; rather we simply need to define some functionality.\n",
        "\n",
        "This is upheld in the Python documentation, where for example certain functions will expect *a file-like object* or *an iterable* (instead of subclass of X base function).\n",
        "\n",
        "Additionally, for some primative classes, the `isinstance` check will return true if a class fulfulls the respective protocol."
      ],
      "metadata": {
        "id": "M4SHtURKz1MA"
      }
    },
    {
      "cell_type": "code",
      "source": [
        "from collections import abc\n",
        "\n",
        "class SizedMock:\n",
        "    def __len__(self):\n",
        "        return 12\n",
        "\n",
        "\n",
        "class IterableMock:\n",
        "    def __iter__(self):\n",
        "        pass\n",
        "\n",
        "\n",
        "class ContainerMock:\n",
        "    def __contains__(self):\n",
        "        pass"
      ],
      "metadata": {
        "id": "DKN5JNdAnPVp"
      },
      "execution_count": 25,
      "outputs": []
    },
    {
      "cell_type": "code",
      "source": [
        "siz = SizedMock()\n",
        "it = IterableMock()\n",
        "con = ContainerMock()\n",
        "\n",
        "print(f'{isinstance(siz, abc.Sized)}')\n",
        "print(f'{isinstance(it, abc.Iterable)}')\n",
        "print(f'{isinstance(con, abc.Container)}')"
      ],
      "metadata": {
        "colab": {
          "base_uri": "https://localhost:8080/"
        },
        "id": "YdN-G_6hmiaY",
        "outputId": "7cc2bd0d-e094-41d0-8363-d7b28b595af2"
      },
      "execution_count": 26,
      "outputs": [
        {
          "output_type": "stream",
          "name": "stdout",
          "text": [
            "True\n",
            "True\n",
            "True\n"
          ]
        }
      ]
    },
    {
      "cell_type": "markdown",
      "source": [
        "Note that in the examples above, the `isinstance` check returned `True`, even though the objects **are not a subclass** of the respective base classes!"
      ],
      "metadata": {
        "id": "AZQD68IKne-A"
      }
    }
  ]
}